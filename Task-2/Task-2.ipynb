{
 "cells": [
  {
   "cell_type": "markdown",
   "metadata": {
    "papermill": {
     "duration": 0.03856,
     "end_time": "2020-10-05T23:51:35.171733",
     "exception": false,
     "start_time": "2020-10-05T23:51:35.133173",
     "status": "completed"
    },
    "tags": []
   },
   "source": [
    "# Problem Statement"
   ]
  },
  {
   "cell_type": "markdown",
   "metadata": {
    "papermill": {
     "duration": 0.036421,
     "end_time": "2020-10-05T23:51:35.246723",
     "exception": false,
     "start_time": "2020-10-05T23:51:35.210302",
     "status": "completed"
    },
    "tags": []
   },
   "source": [
    "Given a past record of movies seen by a user, we will build a recommender system that helps the user discover movies of their interest.\n",
    "Specifically, given <userID, itemID> occurrence pairs, we need to generate a ranked list of movies for each user."
   ]
  },
  {
   "cell_type": "markdown",
   "metadata": {
    "papermill": {
     "duration": 0.036452,
     "end_time": "2020-10-05T23:51:35.320771",
     "exception": false,
     "start_time": "2020-10-05T23:51:35.284319",
     "status": "completed"
    },
    "tags": []
   },
   "source": [
    "State of the art algorithms for matrix factorization / emb-mat, and much more, can be easily replicated using neural networks."
   ]
  },
  {
   "cell_type": "markdown",
   "metadata": {
    "papermill": {
     "duration": 0.036937,
     "end_time": "2020-10-05T23:51:35.394606",
     "exception": false,
     "start_time": "2020-10-05T23:51:35.357669",
     "status": "completed"
    },
    "tags": []
   },
   "source": [
    "## Movielens"
   ]
  },
  {
   "cell_type": "code",
   "execution_count": 1,
   "metadata": {
    "execution": {
     "iopub.execute_input": "2020-10-05T23:51:35.480606Z",
     "iopub.status.busy": "2020-10-05T23:51:35.479662Z",
     "iopub.status.idle": "2020-10-05T23:51:38.442265Z",
     "shell.execute_reply": "2020-10-05T23:51:38.442957Z"
    },
    "papermill": {
     "duration": 3.011932,
     "end_time": "2020-10-05T23:51:38.443156",
     "exception": false,
     "start_time": "2020-10-05T23:51:35.431224",
     "status": "completed"
    },
    "tags": []
   },
   "outputs": [
    {
     "name": "stdout",
     "output_type": "stream",
     "text": [
      "Cloning into '/kaggle/tmp/fastai'...\r\n",
      "remote: Enumerating objects: 18, done.\u001b[K\r\n",
      "remote: Counting objects: 100% (18/18), done.\u001b[K\r\n",
      "remote: Compressing objects: 100% (18/18), done.\u001b[K\r\n",
      "remote: Total 101 (delta 8), reused 0 (delta 0), pack-reused 83\u001b[K\r\n",
      "Receiving objects: 100% (101/101), 466.52 KiB | 10.14 MiB/s, done.\r\n",
      "Resolving deltas: 100% (24/24), done.\r\n"
     ]
    }
   ],
   "source": [
    "import sys\n",
    "!git clone https://github.com/yabhi0807/libml1.git /kaggle/tmp/fastai # This is my repo with all the fastai(updated) libraries \n",
    "sys.path.append('/kaggle/tmp/fastai')\n",
    "!mkdir /kaggle/tmp/data/\n",
    "!ln -s /kaggle/tmp/* /kaggle/working/"
   ]
  },
  {
   "cell_type": "code",
   "execution_count": 2,
   "metadata": {
    "execution": {
     "iopub.execute_input": "2020-10-05T23:51:38.533211Z",
     "iopub.status.busy": "2020-10-05T23:51:38.532407Z",
     "iopub.status.idle": "2020-10-05T23:51:44.673488Z",
     "shell.execute_reply": "2020-10-05T23:51:44.672821Z"
    },
    "papermill": {
     "duration": 6.191232,
     "end_time": "2020-10-05T23:51:44.673622",
     "exception": false,
     "start_time": "2020-10-05T23:51:38.482390",
     "status": "completed"
    },
    "tags": []
   },
   "outputs": [],
   "source": [
    "%reload_ext autoreload\n",
    "%autoreload 2\n",
    "%matplotlib inline\n",
    "\n",
    "from fastai.learner import *\n",
    "from fastai.column_data import *\n",
    "\n",
    "import warnings\n",
    "warnings.filterwarnings(\"ignore\")"
   ]
  },
  {
   "cell_type": "code",
   "execution_count": 3,
   "metadata": {
    "execution": {
     "iopub.execute_input": "2020-10-05T23:51:44.760693Z",
     "iopub.status.busy": "2020-10-05T23:51:44.759579Z",
     "iopub.status.idle": "2020-10-05T23:51:47.046623Z",
     "shell.execute_reply": "2020-10-05T23:51:47.045979Z"
    },
    "papermill": {
     "duration": 2.334423,
     "end_time": "2020-10-05T23:51:47.046760",
     "exception": false,
     "start_time": "2020-10-05T23:51:44.712337",
     "status": "completed"
    },
    "tags": []
   },
   "outputs": [
    {
     "name": "stdout",
     "output_type": "stream",
     "text": [
      "movies.csv  ratings.csv\r\n"
     ]
    }
   ],
   "source": [
    "!mkdir /kaggle/tmp/data/movies/\n",
    "!cp -r ../input/movielenssp/* /kaggle/tmp/data/movies/\n",
    "!ls /kaggle/tmp/data/movies/"
   ]
  },
  {
   "cell_type": "code",
   "execution_count": 4,
   "metadata": {
    "execution": {
     "iopub.execute_input": "2020-10-05T23:51:47.132646Z",
     "iopub.status.busy": "2020-10-05T23:51:47.131592Z",
     "iopub.status.idle": "2020-10-05T23:51:47.179425Z",
     "shell.execute_reply": "2020-10-05T23:51:47.178821Z"
    },
    "papermill": {
     "duration": 0.093326,
     "end_time": "2020-10-05T23:51:47.179555",
     "exception": false,
     "start_time": "2020-10-05T23:51:47.086229",
     "status": "completed"
    },
    "tags": []
   },
   "outputs": [],
   "source": [
    "path='/kaggle/tmp/data/movies/'"
   ]
  },
  {
   "cell_type": "code",
   "execution_count": 5,
   "metadata": {
    "execution": {
     "iopub.execute_input": "2020-10-05T23:51:47.264183Z",
     "iopub.status.busy": "2020-10-05T23:51:47.263130Z",
     "iopub.status.idle": "2020-10-05T23:51:47.389908Z",
     "shell.execute_reply": "2020-10-05T23:51:47.390692Z"
    },
    "papermill": {
     "duration": 0.17177,
     "end_time": "2020-10-05T23:51:47.390904",
     "exception": false,
     "start_time": "2020-10-05T23:51:47.219134",
     "status": "completed"
    },
    "tags": []
   },
   "outputs": [
    {
     "data": {
      "text/html": [
       "<div>\n",
       "<style scoped>\n",
       "    .dataframe tbody tr th:only-of-type {\n",
       "        vertical-align: middle;\n",
       "    }\n",
       "\n",
       "    .dataframe tbody tr th {\n",
       "        vertical-align: top;\n",
       "    }\n",
       "\n",
       "    .dataframe thead th {\n",
       "        text-align: right;\n",
       "    }\n",
       "</style>\n",
       "<table border=\"1\" class=\"dataframe\">\n",
       "  <thead>\n",
       "    <tr style=\"text-align: right;\">\n",
       "      <th></th>\n",
       "      <th>userId</th>\n",
       "      <th>movieId</th>\n",
       "      <th>rating</th>\n",
       "      <th>timestamp</th>\n",
       "    </tr>\n",
       "  </thead>\n",
       "  <tbody>\n",
       "    <tr>\n",
       "      <th>0</th>\n",
       "      <td>1</td>\n",
       "      <td>16</td>\n",
       "      <td>4.0</td>\n",
       "      <td>1217897793</td>\n",
       "    </tr>\n",
       "    <tr>\n",
       "      <th>1</th>\n",
       "      <td>1</td>\n",
       "      <td>24</td>\n",
       "      <td>1.5</td>\n",
       "      <td>1217895807</td>\n",
       "    </tr>\n",
       "    <tr>\n",
       "      <th>2</th>\n",
       "      <td>1</td>\n",
       "      <td>32</td>\n",
       "      <td>4.0</td>\n",
       "      <td>1217896246</td>\n",
       "    </tr>\n",
       "    <tr>\n",
       "      <th>3</th>\n",
       "      <td>1</td>\n",
       "      <td>47</td>\n",
       "      <td>4.0</td>\n",
       "      <td>1217896556</td>\n",
       "    </tr>\n",
       "    <tr>\n",
       "      <th>4</th>\n",
       "      <td>1</td>\n",
       "      <td>50</td>\n",
       "      <td>4.0</td>\n",
       "      <td>1217896523</td>\n",
       "    </tr>\n",
       "  </tbody>\n",
       "</table>\n",
       "</div>"
      ],
      "text/plain": [
       "   userId  movieId  rating   timestamp\n",
       "0       1       16     4.0  1217897793\n",
       "1       1       24     1.5  1217895807\n",
       "2       1       32     4.0  1217896246\n",
       "3       1       47     4.0  1217896556\n",
       "4       1       50     4.0  1217896523"
      ]
     },
     "execution_count": 5,
     "metadata": {},
     "output_type": "execute_result"
    }
   ],
   "source": [
    "ratings = pd.read_csv(path+'ratings.csv')\n",
    "ratings.head()"
   ]
  },
  {
   "cell_type": "markdown",
   "metadata": {
    "papermill": {
     "duration": 0.044426,
     "end_time": "2020-10-05T23:51:47.480848",
     "exception": false,
     "start_time": "2020-10-05T23:51:47.436422",
     "status": "completed"
    },
    "tags": []
   },
   "source": [
    "Just for display purposes, let's read in the movie names too."
   ]
  },
  {
   "cell_type": "code",
   "execution_count": 6,
   "metadata": {
    "execution": {
     "iopub.execute_input": "2020-10-05T23:51:47.577955Z",
     "iopub.status.busy": "2020-10-05T23:51:47.576656Z",
     "iopub.status.idle": "2020-10-05T23:51:47.649247Z",
     "shell.execute_reply": "2020-10-05T23:51:47.649907Z"
    },
    "papermill": {
     "duration": 0.123903,
     "end_time": "2020-10-05T23:51:47.650071",
     "exception": false,
     "start_time": "2020-10-05T23:51:47.526168",
     "status": "completed"
    },
    "tags": []
   },
   "outputs": [
    {
     "data": {
      "text/html": [
       "<div>\n",
       "<style scoped>\n",
       "    .dataframe tbody tr th:only-of-type {\n",
       "        vertical-align: middle;\n",
       "    }\n",
       "\n",
       "    .dataframe tbody tr th {\n",
       "        vertical-align: top;\n",
       "    }\n",
       "\n",
       "    .dataframe thead th {\n",
       "        text-align: right;\n",
       "    }\n",
       "</style>\n",
       "<table border=\"1\" class=\"dataframe\">\n",
       "  <thead>\n",
       "    <tr style=\"text-align: right;\">\n",
       "      <th></th>\n",
       "      <th>movieId</th>\n",
       "      <th>title</th>\n",
       "      <th>genres</th>\n",
       "    </tr>\n",
       "  </thead>\n",
       "  <tbody>\n",
       "    <tr>\n",
       "      <th>0</th>\n",
       "      <td>1</td>\n",
       "      <td>Toy Story (1995)</td>\n",
       "      <td>Adventure|Animation|Children|Comedy|Fantasy</td>\n",
       "    </tr>\n",
       "    <tr>\n",
       "      <th>1</th>\n",
       "      <td>2</td>\n",
       "      <td>Jumanji (1995)</td>\n",
       "      <td>Adventure|Children|Fantasy</td>\n",
       "    </tr>\n",
       "    <tr>\n",
       "      <th>2</th>\n",
       "      <td>3</td>\n",
       "      <td>Grumpier Old Men (1995)</td>\n",
       "      <td>Comedy|Romance</td>\n",
       "    </tr>\n",
       "    <tr>\n",
       "      <th>3</th>\n",
       "      <td>4</td>\n",
       "      <td>Waiting to Exhale (1995)</td>\n",
       "      <td>Comedy|Drama|Romance</td>\n",
       "    </tr>\n",
       "    <tr>\n",
       "      <th>4</th>\n",
       "      <td>5</td>\n",
       "      <td>Father of the Bride Part II (1995)</td>\n",
       "      <td>Comedy</td>\n",
       "    </tr>\n",
       "  </tbody>\n",
       "</table>\n",
       "</div>"
      ],
      "text/plain": [
       "   movieId                               title  \\\n",
       "0        1                    Toy Story (1995)   \n",
       "1        2                      Jumanji (1995)   \n",
       "2        3             Grumpier Old Men (1995)   \n",
       "3        4            Waiting to Exhale (1995)   \n",
       "4        5  Father of the Bride Part II (1995)   \n",
       "\n",
       "                                        genres  \n",
       "0  Adventure|Animation|Children|Comedy|Fantasy  \n",
       "1                   Adventure|Children|Fantasy  \n",
       "2                               Comedy|Romance  \n",
       "3                         Comedy|Drama|Romance  \n",
       "4                                       Comedy  "
      ]
     },
     "execution_count": 6,
     "metadata": {},
     "output_type": "execute_result"
    }
   ],
   "source": [
    "movies = pd.read_csv(path+'movies.csv')\n",
    "movies.head()"
   ]
  },
  {
   "cell_type": "code",
   "execution_count": 7,
   "metadata": {
    "execution": {
     "iopub.execute_input": "2020-10-05T23:51:47.751617Z",
     "iopub.status.busy": "2020-10-05T23:51:47.750505Z",
     "iopub.status.idle": "2020-10-05T23:51:47.886259Z",
     "shell.execute_reply": "2020-10-05T23:51:47.886937Z"
    },
    "papermill": {
     "duration": 0.190528,
     "end_time": "2020-10-05T23:51:47.887106",
     "exception": false,
     "start_time": "2020-10-05T23:51:47.696578",
     "status": "completed"
    },
    "tags": []
   },
   "outputs": [
    {
     "data": {
      "text/html": [
       "<div>\n",
       "<style scoped>\n",
       "    .dataframe tbody tr th:only-of-type {\n",
       "        vertical-align: middle;\n",
       "    }\n",
       "\n",
       "    .dataframe tbody tr th {\n",
       "        vertical-align: top;\n",
       "    }\n",
       "\n",
       "    .dataframe thead th {\n",
       "        text-align: right;\n",
       "    }\n",
       "</style>\n",
       "<table border=\"1\" class=\"dataframe\">\n",
       "  <thead>\n",
       "    <tr style=\"text-align: right;\">\n",
       "      <th>movieId</th>\n",
       "      <th>1</th>\n",
       "      <th>50</th>\n",
       "      <th>110</th>\n",
       "      <th>260</th>\n",
       "      <th>296</th>\n",
       "      <th>318</th>\n",
       "      <th>356</th>\n",
       "      <th>457</th>\n",
       "      <th>480</th>\n",
       "      <th>527</th>\n",
       "      <th>589</th>\n",
       "      <th>593</th>\n",
       "      <th>1196</th>\n",
       "      <th>1198</th>\n",
       "      <th>2571</th>\n",
       "    </tr>\n",
       "    <tr>\n",
       "      <th>userId</th>\n",
       "      <th></th>\n",
       "      <th></th>\n",
       "      <th></th>\n",
       "      <th></th>\n",
       "      <th></th>\n",
       "      <th></th>\n",
       "      <th></th>\n",
       "      <th></th>\n",
       "      <th></th>\n",
       "      <th></th>\n",
       "      <th></th>\n",
       "      <th></th>\n",
       "      <th></th>\n",
       "      <th></th>\n",
       "      <th></th>\n",
       "    </tr>\n",
       "  </thead>\n",
       "  <tbody>\n",
       "    <tr>\n",
       "      <th>62</th>\n",
       "      <td>2.0</td>\n",
       "      <td>3.0</td>\n",
       "      <td>3.0</td>\n",
       "      <td>2.5</td>\n",
       "      <td>5.0</td>\n",
       "      <td>4.5</td>\n",
       "      <td>4.0</td>\n",
       "      <td>1.0</td>\n",
       "      <td>3.0</td>\n",
       "      <td>5.0</td>\n",
       "      <td>4.0</td>\n",
       "      <td>4.5</td>\n",
       "      <td>3.0</td>\n",
       "      <td>1.0</td>\n",
       "      <td>1.5</td>\n",
       "    </tr>\n",
       "    <tr>\n",
       "      <th>63</th>\n",
       "      <td>NaN</td>\n",
       "      <td>4.5</td>\n",
       "      <td>3.0</td>\n",
       "      <td>4.5</td>\n",
       "      <td>3.5</td>\n",
       "      <td>4.0</td>\n",
       "      <td>4.5</td>\n",
       "      <td>3.0</td>\n",
       "      <td>3.0</td>\n",
       "      <td>NaN</td>\n",
       "      <td>3.5</td>\n",
       "      <td>3.5</td>\n",
       "      <td>5.0</td>\n",
       "      <td>4.0</td>\n",
       "      <td>5.0</td>\n",
       "    </tr>\n",
       "    <tr>\n",
       "      <th>128</th>\n",
       "      <td>3.0</td>\n",
       "      <td>5.0</td>\n",
       "      <td>4.5</td>\n",
       "      <td>3.5</td>\n",
       "      <td>5.0</td>\n",
       "      <td>5.0</td>\n",
       "      <td>4.5</td>\n",
       "      <td>4.0</td>\n",
       "      <td>3.5</td>\n",
       "      <td>3.5</td>\n",
       "      <td>3.5</td>\n",
       "      <td>4.0</td>\n",
       "      <td>4.0</td>\n",
       "      <td>4.0</td>\n",
       "      <td>4.0</td>\n",
       "    </tr>\n",
       "    <tr>\n",
       "      <th>224</th>\n",
       "      <td>4.5</td>\n",
       "      <td>5.0</td>\n",
       "      <td>4.0</td>\n",
       "      <td>3.5</td>\n",
       "      <td>4.5</td>\n",
       "      <td>5.0</td>\n",
       "      <td>5.0</td>\n",
       "      <td>4.0</td>\n",
       "      <td>4.5</td>\n",
       "      <td>4.0</td>\n",
       "      <td>4.5</td>\n",
       "      <td>4.0</td>\n",
       "      <td>4.5</td>\n",
       "      <td>4.0</td>\n",
       "      <td>4.5</td>\n",
       "    </tr>\n",
       "    <tr>\n",
       "      <th>232</th>\n",
       "      <td>3.5</td>\n",
       "      <td>NaN</td>\n",
       "      <td>4.0</td>\n",
       "      <td>4.0</td>\n",
       "      <td>4.5</td>\n",
       "      <td>4.0</td>\n",
       "      <td>4.0</td>\n",
       "      <td>4.5</td>\n",
       "      <td>3.5</td>\n",
       "      <td>NaN</td>\n",
       "      <td>4.5</td>\n",
       "      <td>4.0</td>\n",
       "      <td>4.0</td>\n",
       "      <td>5.0</td>\n",
       "      <td>4.5</td>\n",
       "    </tr>\n",
       "    <tr>\n",
       "      <th>310</th>\n",
       "      <td>3.0</td>\n",
       "      <td>4.0</td>\n",
       "      <td>4.0</td>\n",
       "      <td>3.0</td>\n",
       "      <td>4.0</td>\n",
       "      <td>4.5</td>\n",
       "      <td>3.5</td>\n",
       "      <td>4.0</td>\n",
       "      <td>3.0</td>\n",
       "      <td>4.0</td>\n",
       "      <td>4.5</td>\n",
       "      <td>3.5</td>\n",
       "      <td>3.5</td>\n",
       "      <td>3.0</td>\n",
       "      <td>4.0</td>\n",
       "    </tr>\n",
       "    <tr>\n",
       "      <th>413</th>\n",
       "      <td>4.0</td>\n",
       "      <td>2.5</td>\n",
       "      <td>NaN</td>\n",
       "      <td>4.0</td>\n",
       "      <td>4.5</td>\n",
       "      <td>5.0</td>\n",
       "      <td>4.0</td>\n",
       "      <td>NaN</td>\n",
       "      <td>5.0</td>\n",
       "      <td>4.0</td>\n",
       "      <td>4.0</td>\n",
       "      <td>3.5</td>\n",
       "      <td>4.0</td>\n",
       "      <td>4.0</td>\n",
       "      <td>5.0</td>\n",
       "    </tr>\n",
       "    <tr>\n",
       "      <th>451</th>\n",
       "      <td>3.5</td>\n",
       "      <td>4.5</td>\n",
       "      <td>4.0</td>\n",
       "      <td>4.5</td>\n",
       "      <td>4.5</td>\n",
       "      <td>4.0</td>\n",
       "      <td>NaN</td>\n",
       "      <td>4.0</td>\n",
       "      <td>4.0</td>\n",
       "      <td>NaN</td>\n",
       "      <td>4.0</td>\n",
       "      <td>5.0</td>\n",
       "      <td>4.0</td>\n",
       "      <td>4.5</td>\n",
       "      <td>3.5</td>\n",
       "    </tr>\n",
       "    <tr>\n",
       "      <th>458</th>\n",
       "      <td>3.5</td>\n",
       "      <td>5.0</td>\n",
       "      <td>5.0</td>\n",
       "      <td>4.5</td>\n",
       "      <td>5.0</td>\n",
       "      <td>4.0</td>\n",
       "      <td>4.0</td>\n",
       "      <td>4.0</td>\n",
       "      <td>2.0</td>\n",
       "      <td>5.0</td>\n",
       "      <td>5.0</td>\n",
       "      <td>5.0</td>\n",
       "      <td>4.5</td>\n",
       "      <td>5.0</td>\n",
       "      <td>5.0</td>\n",
       "    </tr>\n",
       "    <tr>\n",
       "      <th>461</th>\n",
       "      <td>4.0</td>\n",
       "      <td>4.0</td>\n",
       "      <td>4.0</td>\n",
       "      <td>5.0</td>\n",
       "      <td>4.5</td>\n",
       "      <td>4.0</td>\n",
       "      <td>3.0</td>\n",
       "      <td>4.0</td>\n",
       "      <td>3.5</td>\n",
       "      <td>NaN</td>\n",
       "      <td>4.5</td>\n",
       "      <td>4.0</td>\n",
       "      <td>4.0</td>\n",
       "      <td>4.5</td>\n",
       "      <td>5.0</td>\n",
       "    </tr>\n",
       "    <tr>\n",
       "      <th>475</th>\n",
       "      <td>NaN</td>\n",
       "      <td>NaN</td>\n",
       "      <td>4.0</td>\n",
       "      <td>3.5</td>\n",
       "      <td>4.0</td>\n",
       "      <td>4.0</td>\n",
       "      <td>4.0</td>\n",
       "      <td>4.5</td>\n",
       "      <td>NaN</td>\n",
       "      <td>NaN</td>\n",
       "      <td>5.0</td>\n",
       "      <td>NaN</td>\n",
       "      <td>4.0</td>\n",
       "      <td>NaN</td>\n",
       "      <td>4.0</td>\n",
       "    </tr>\n",
       "    <tr>\n",
       "      <th>575</th>\n",
       "      <td>5.0</td>\n",
       "      <td>4.0</td>\n",
       "      <td>4.0</td>\n",
       "      <td>4.0</td>\n",
       "      <td>4.0</td>\n",
       "      <td>4.5</td>\n",
       "      <td>2.5</td>\n",
       "      <td>4.5</td>\n",
       "      <td>4.0</td>\n",
       "      <td>5.0</td>\n",
       "      <td>4.0</td>\n",
       "      <td>4.5</td>\n",
       "      <td>5.0</td>\n",
       "      <td>4.0</td>\n",
       "      <td>4.0</td>\n",
       "    </tr>\n",
       "    <tr>\n",
       "      <th>607</th>\n",
       "      <td>4.0</td>\n",
       "      <td>5.0</td>\n",
       "      <td>NaN</td>\n",
       "      <td>4.0</td>\n",
       "      <td>3.0</td>\n",
       "      <td>5.0</td>\n",
       "      <td>4.0</td>\n",
       "      <td>2.0</td>\n",
       "      <td>4.0</td>\n",
       "      <td>4.0</td>\n",
       "      <td>5.0</td>\n",
       "      <td>5.0</td>\n",
       "      <td>5.0</td>\n",
       "      <td>4.0</td>\n",
       "      <td>4.0</td>\n",
       "    </tr>\n",
       "    <tr>\n",
       "      <th>627</th>\n",
       "      <td>5.0</td>\n",
       "      <td>5.0</td>\n",
       "      <td>3.5</td>\n",
       "      <td>4.5</td>\n",
       "      <td>5.0</td>\n",
       "      <td>4.5</td>\n",
       "      <td>2.0</td>\n",
       "      <td>3.5</td>\n",
       "      <td>3.5</td>\n",
       "      <td>NaN</td>\n",
       "      <td>3.5</td>\n",
       "      <td>3.0</td>\n",
       "      <td>5.0</td>\n",
       "      <td>5.0</td>\n",
       "      <td>3.0</td>\n",
       "    </tr>\n",
       "    <tr>\n",
       "      <th>668</th>\n",
       "      <td>3.0</td>\n",
       "      <td>4.0</td>\n",
       "      <td>4.0</td>\n",
       "      <td>3.0</td>\n",
       "      <td>4.0</td>\n",
       "      <td>4.0</td>\n",
       "      <td>4.0</td>\n",
       "      <td>3.0</td>\n",
       "      <td>4.0</td>\n",
       "      <td>4.0</td>\n",
       "      <td>4.0</td>\n",
       "      <td>4.5</td>\n",
       "      <td>2.5</td>\n",
       "      <td>4.0</td>\n",
       "      <td>4.0</td>\n",
       "    </tr>\n",
       "  </tbody>\n",
       "</table>\n",
       "</div>"
      ],
      "text/plain": [
       "movieId  1     50    110   260   296   318   356   457   480   527   589   \\\n",
       "userId                                                                      \n",
       "62        2.0   3.0   3.0   2.5   5.0   4.5   4.0   1.0   3.0   5.0   4.0   \n",
       "63        NaN   4.5   3.0   4.5   3.5   4.0   4.5   3.0   3.0   NaN   3.5   \n",
       "128       3.0   5.0   4.5   3.5   5.0   5.0   4.5   4.0   3.5   3.5   3.5   \n",
       "224       4.5   5.0   4.0   3.5   4.5   5.0   5.0   4.0   4.5   4.0   4.5   \n",
       "232       3.5   NaN   4.0   4.0   4.5   4.0   4.0   4.5   3.5   NaN   4.5   \n",
       "310       3.0   4.0   4.0   3.0   4.0   4.5   3.5   4.0   3.0   4.0   4.5   \n",
       "413       4.0   2.5   NaN   4.0   4.5   5.0   4.0   NaN   5.0   4.0   4.0   \n",
       "451       3.5   4.5   4.0   4.5   4.5   4.0   NaN   4.0   4.0   NaN   4.0   \n",
       "458       3.5   5.0   5.0   4.5   5.0   4.0   4.0   4.0   2.0   5.0   5.0   \n",
       "461       4.0   4.0   4.0   5.0   4.5   4.0   3.0   4.0   3.5   NaN   4.5   \n",
       "475       NaN   NaN   4.0   3.5   4.0   4.0   4.0   4.5   NaN   NaN   5.0   \n",
       "575       5.0   4.0   4.0   4.0   4.0   4.5   2.5   4.5   4.0   5.0   4.0   \n",
       "607       4.0   5.0   NaN   4.0   3.0   5.0   4.0   2.0   4.0   4.0   5.0   \n",
       "627       5.0   5.0   3.5   4.5   5.0   4.5   2.0   3.5   3.5   NaN   3.5   \n",
       "668       3.0   4.0   4.0   3.0   4.0   4.0   4.0   3.0   4.0   4.0   4.0   \n",
       "\n",
       "movieId  593   1196  1198  2571  \n",
       "userId                           \n",
       "62        4.5   3.0   1.0   1.5  \n",
       "63        3.5   5.0   4.0   5.0  \n",
       "128       4.0   4.0   4.0   4.0  \n",
       "224       4.0   4.5   4.0   4.5  \n",
       "232       4.0   4.0   5.0   4.5  \n",
       "310       3.5   3.5   3.0   4.0  \n",
       "413       3.5   4.0   4.0   5.0  \n",
       "451       5.0   4.0   4.5   3.5  \n",
       "458       5.0   4.5   5.0   5.0  \n",
       "461       4.0   4.0   4.5   5.0  \n",
       "475       NaN   4.0   NaN   4.0  \n",
       "575       4.5   5.0   4.0   4.0  \n",
       "607       5.0   5.0   4.0   4.0  \n",
       "627       3.0   5.0   5.0   3.0  \n",
       "668       4.5   2.5   4.0   4.0  "
      ]
     },
     "execution_count": 7,
     "metadata": {},
     "output_type": "execute_result"
    }
   ],
   "source": [
    "g=ratings.groupby('userId')['rating'].count()\n",
    "topUsers=g.sort_values(ascending=False)[:15]\n",
    "\n",
    "g=ratings.groupby('movieId')['rating'].count()\n",
    "topMovies=g.sort_values(ascending=False)[:15]\n",
    "\n",
    "top_r = ratings.join(topUsers, rsuffix='_r', how='inner', on='userId')\n",
    "top_r = top_r.join(topMovies, rsuffix='_r', how='inner', on='movieId')\n",
    "\n",
    "pd.crosstab(top_r.userId, top_r.movieId, top_r.rating, aggfunc=np.sum)"
   ]
  },
  {
   "cell_type": "markdown",
   "metadata": {
    "papermill": {
     "duration": 0.046348,
     "end_time": "2020-10-05T23:51:47.980580",
     "exception": false,
     "start_time": "2020-10-05T23:51:47.934232",
     "status": "completed"
    },
    "tags": []
   },
   "source": [
    "## Evaluation Metrics"
   ]
  },
  {
   "cell_type": "markdown",
   "metadata": {
    "papermill": {
     "duration": 0.041008,
     "end_time": "2020-10-05T23:51:48.063413",
     "exception": false,
     "start_time": "2020-10-05T23:51:48.022405",
     "status": "completed"
    },
    "tags": []
   },
   "source": [
    "We use Mean-Square Error(MSE) to evaluate the performance for our Recommender System."
   ]
  },
  {
   "cell_type": "markdown",
   "metadata": {
    "papermill": {
     "duration": 0.041854,
     "end_time": "2020-10-05T23:51:48.146675",
     "exception": false,
     "start_time": "2020-10-05T23:51:48.104821",
     "status": "completed"
    },
    "tags": []
   },
   "source": [
    "## Collaborative filtering"
   ]
  },
  {
   "cell_type": "code",
   "execution_count": 8,
   "metadata": {
    "execution": {
     "iopub.execute_input": "2020-10-05T23:51:48.238157Z",
     "iopub.status.busy": "2020-10-05T23:51:48.237082Z",
     "iopub.status.idle": "2020-10-05T23:51:48.558048Z",
     "shell.execute_reply": "2020-10-05T23:51:48.557314Z"
    },
    "papermill": {
     "duration": 0.369234,
     "end_time": "2020-10-05T23:51:48.558183",
     "exception": false,
     "start_time": "2020-10-05T23:51:48.188949",
     "status": "completed"
    },
    "tags": []
   },
   "outputs": [],
   "source": [
    "cf = CollabFilterDataset.from_csv(path, 'ratings.csv', 'userId', 'movieId', 'rating')"
   ]
  },
  {
   "cell_type": "code",
   "execution_count": 9,
   "metadata": {
    "execution": {
     "iopub.execute_input": "2020-10-05T23:51:48.652093Z",
     "iopub.status.busy": "2020-10-05T23:51:48.651112Z",
     "iopub.status.idle": "2020-10-05T23:51:48.708759Z",
     "shell.execute_reply": "2020-10-05T23:51:48.708170Z"
    },
    "papermill": {
     "duration": 0.106658,
     "end_time": "2020-10-05T23:51:48.708917",
     "exception": false,
     "start_time": "2020-10-05T23:51:48.602259",
     "status": "completed"
    },
    "tags": []
   },
   "outputs": [],
   "source": [
    "movie_names = movies.set_index('movieId')['title'].to_dict()\n",
    "g=ratings.groupby('movieId')['rating'].count()\n",
    "topMovies=g.sort_values(ascending=False).index.values[:3000]\n",
    "topMovieIdx = np.array([cf.item2idx[o] for o in topMovies])"
   ]
  },
  {
   "cell_type": "markdown",
   "metadata": {
    "papermill": {
     "duration": 0.042223,
     "end_time": "2020-10-05T23:51:48.792972",
     "exception": false,
     "start_time": "2020-10-05T23:51:48.750749",
     "status": "completed"
    },
    "tags": []
   },
   "source": [
    "## Models"
   ]
  },
  {
   "cell_type": "markdown",
   "metadata": {
    "papermill": {
     "duration": 0.041657,
     "end_time": "2020-10-05T23:51:48.876875",
     "exception": false,
     "start_time": "2020-10-05T23:51:48.835218",
     "status": "completed"
    },
    "tags": []
   },
   "source": [
    "### My Model"
   ]
  },
  {
   "cell_type": "code",
   "execution_count": 10,
   "metadata": {
    "execution": {
     "iopub.execute_input": "2020-10-05T23:51:48.967465Z",
     "iopub.status.busy": "2020-10-05T23:51:48.966280Z",
     "iopub.status.idle": "2020-10-05T23:51:49.012823Z",
     "shell.execute_reply": "2020-10-05T23:51:49.012222Z"
    },
    "papermill": {
     "duration": 0.093879,
     "end_time": "2020-10-05T23:51:49.012952",
     "exception": false,
     "start_time": "2020-10-05T23:51:48.919073",
     "status": "completed"
    },
    "tags": []
   },
   "outputs": [],
   "source": [
    "val_idxs = get_cv_idxs(len(ratings))\n",
    "wd=2e-4\n",
    "n_factors = 50 # dimentionality of the embedding matrix"
   ]
  },
  {
   "cell_type": "code",
   "execution_count": 11,
   "metadata": {
    "execution": {
     "iopub.execute_input": "2020-10-05T23:51:49.114714Z",
     "iopub.status.busy": "2020-10-05T23:51:49.106238Z",
     "iopub.status.idle": "2020-10-05T23:52:18.216903Z",
     "shell.execute_reply": "2020-10-05T23:52:18.216085Z"
    },
    "papermill": {
     "duration": 29.161828,
     "end_time": "2020-10-05T23:52:18.217069",
     "exception": false,
     "start_time": "2020-10-05T23:51:49.055241",
     "status": "completed"
    },
    "tags": []
   },
   "outputs": [
    {
     "data": {
      "application/vnd.jupyter.widget-view+json": {
       "model_id": "9518b21c7e674ed5b48b7f7d658ef9e9",
       "version_major": 2,
       "version_minor": 0
      },
      "text/plain": [
       "HBox(children=(FloatProgress(value=0.0, description='Epoch', max=3.0, style=ProgressStyle(description_width='i…"
      ]
     },
     "metadata": {},
     "output_type": "display_data"
    },
    {
     "name": "stdout",
     "output_type": "stream",
     "text": [
      "epoch      trn_loss   val_loss   \n",
      "    0      0.795895   0.785543  \n",
      "    1      0.741717   0.765219  \n",
      "    2      0.729218   0.760334  \n",
      "\n"
     ]
    },
    {
     "data": {
      "application/vnd.jupyter.widget-view+json": {
       "model_id": "7abe8817aa764aebadcae2d5f7841a09",
       "version_major": 2,
       "version_minor": 0
      },
      "text/plain": [
       "HBox(children=(FloatProgress(value=0.0, description='Epoch', max=3.0, style=ProgressStyle(description_width='i…"
      ]
     },
     "metadata": {},
     "output_type": "display_data"
    },
    {
     "name": "stdout",
     "output_type": "stream",
     "text": [
      "epoch      trn_loss   val_loss   \n",
      "    0      0.690832   0.752396  \n",
      "    1      0.688473   0.751042  \n",
      "    2      0.686106   0.750677  \n",
      "\n"
     ]
    },
    {
     "data": {
      "text/plain": [
       "[0.7506768925616516]"
      ]
     },
     "execution_count": 11,
     "metadata": {},
     "output_type": "execute_result"
    }
   ],
   "source": [
    "u_uniq = ratings.userId.unique()\n",
    "user2idx = {o:i for i,o in enumerate(u_uniq)}\n",
    "ratings.userId = ratings.userId.apply(lambda x: user2idx[x])\n",
    "\n",
    "m_uniq = ratings.movieId.unique()\n",
    "movie2idx = {o:i for i,o in enumerate(m_uniq)}\n",
    "ratings.movieId = ratings.movieId.apply(lambda x: movie2idx[x])\n",
    "\n",
    "n_users=int(ratings.userId.nunique())\n",
    "n_movies=int(ratings.movieId.nunique())\n",
    "\n",
    "x = ratings.drop(['rating', 'timestamp'],axis=1)\n",
    "y = ratings['rating'].astype(np.float32)\n",
    "data = ColumnarModelData.from_data_frame(path, val_idxs, x, y, ['userId', 'movieId'], 64)\n",
    "\n",
    "min_rating,max_rating = ratings.rating.min(),ratings.rating.max()\n",
    "\n",
    "def get_emb(ni,nf):\n",
    "    e = nn.Embedding(ni, nf)\n",
    "    e.weight.data.uniform_(-0.01,0.01)\n",
    "    return e\n",
    "\n",
    "class EmbeddingDotBias_(nn.Module):\n",
    "    def __init__(self, n_users, n_movies):\n",
    "        super().__init__()\n",
    "        (self.u, self.m, self.ub, self.mb) = [get_emb(*o) for o in [\n",
    "            (n_users, n_factors), (n_movies, n_factors), (n_users,1), (n_movies,1)\n",
    "        ]]\n",
    "        \n",
    "    def forward(self, cats, conts):\n",
    "        users,movies = cats[:,0],cats[:,1]\n",
    "        um = (self.u(users)* self.m(movies)).sum(1)\n",
    "        res = um + self.ub(users).squeeze() + self.mb(movies).squeeze()\n",
    "        res = torch.sigmoid(res) * (max_rating-min_rating) + min_rating\n",
    "        return res.view(-1, 1)\n",
    "\n",
    "cf = CollabFilterDataset.from_csv(path, 'ratings.csv', 'userId', 'movieId', 'rating')\n",
    "model = EmbeddingDotBias_(cf.n_users, cf.n_items).cuda()\n",
    "opt = optim.SGD(model.parameters(), 1e-1, weight_decay=wd, momentum=0.9)\n",
    "\n",
    "fit(model, data, 3, opt, F.mse_loss)\n",
    "\n",
    "set_lrs(opt, 1e-2)\n",
    "\n",
    "fit(model, data, 3, opt, F.mse_loss)"
   ]
  },
  {
   "cell_type": "markdown",
   "metadata": {
    "papermill": {
     "duration": 0.142709,
     "end_time": "2020-10-05T23:52:18.506339",
     "exception": false,
     "start_time": "2020-10-05T23:52:18.363630",
     "status": "completed"
    },
    "tags": []
   },
   "source": [
    "### Fastai Model"
   ]
  },
  {
   "cell_type": "code",
   "execution_count": 12,
   "metadata": {
    "execution": {
     "iopub.execute_input": "2020-10-05T23:52:18.799060Z",
     "iopub.status.busy": "2020-10-05T23:52:18.798053Z",
     "iopub.status.idle": "2020-10-05T23:52:19.141042Z",
     "shell.execute_reply": "2020-10-05T23:52:19.140045Z"
    },
    "papermill": {
     "duration": 0.49193,
     "end_time": "2020-10-05T23:52:19.141179",
     "exception": false,
     "start_time": "2020-10-05T23:52:18.649249",
     "status": "completed"
    },
    "tags": []
   },
   "outputs": [],
   "source": [
    "cf = CollabFilterDataset.from_csv(path, 'ratings.csv', 'userId', 'movieId', 'rating')\n",
    "learn = cf.get_learner(n_factors, val_idxs, 64, opt_fn=optim.Adam)"
   ]
  },
  {
   "cell_type": "code",
   "execution_count": 13,
   "metadata": {
    "execution": {
     "iopub.execute_input": "2020-10-05T23:52:19.437359Z",
     "iopub.status.busy": "2020-10-05T23:52:19.436200Z",
     "iopub.status.idle": "2020-10-05T23:52:52.904183Z",
     "shell.execute_reply": "2020-10-05T23:52:52.903487Z"
    },
    "papermill": {
     "duration": 33.617895,
     "end_time": "2020-10-05T23:52:52.904315",
     "exception": false,
     "start_time": "2020-10-05T23:52:19.286420",
     "status": "completed"
    },
    "tags": []
   },
   "outputs": [
    {
     "data": {
      "application/vnd.jupyter.widget-view+json": {
       "model_id": "75e2a956a554456e9a19e5cbb326ee45",
       "version_major": 2,
       "version_minor": 0
      },
      "text/plain": [
       "HBox(children=(FloatProgress(value=0.0, description='Epoch', max=7.0, style=ProgressStyle(description_width='i…"
      ]
     },
     "metadata": {},
     "output_type": "display_data"
    },
    {
     "name": "stdout",
     "output_type": "stream",
     "text": [
      "epoch      trn_loss   val_loss   \n",
      "    0      0.74601    0.756632  \n",
      "    1      0.742665   0.73658   \n",
      "    2      0.597164   0.722251  \n",
      "    3      0.733607   0.747648  \n",
      "    4      0.659247   0.729003  \n",
      "    5      0.566097   0.716688  \n",
      "    6      0.418853   0.717275  \n",
      "\n"
     ]
    },
    {
     "data": {
      "text/plain": [
       "[0.7172748447681133]"
      ]
     },
     "execution_count": 13,
     "metadata": {},
     "output_type": "execute_result"
    }
   ],
   "source": [
    "learn.fit(1e-2, 3, wds=wd, cycle_len=1, cycle_mult=2)"
   ]
  },
  {
   "cell_type": "markdown",
   "metadata": {
    "papermill": {
     "duration": 0.276913,
     "end_time": "2020-10-05T23:52:53.477879",
     "exception": false,
     "start_time": "2020-10-05T23:52:53.200966",
     "status": "completed"
    },
    "tags": []
   },
   "source": [
    "Looking good!"
   ]
  },
  {
   "cell_type": "code",
   "execution_count": 14,
   "metadata": {
    "execution": {
     "iopub.execute_input": "2020-10-05T23:52:54.033368Z",
     "iopub.status.busy": "2020-10-05T23:52:54.032308Z",
     "iopub.status.idle": "2020-10-05T23:52:54.493353Z",
     "shell.execute_reply": "2020-10-05T23:52:54.492694Z"
    },
    "papermill": {
     "duration": 0.741116,
     "end_time": "2020-10-05T23:52:54.493492",
     "exception": false,
     "start_time": "2020-10-05T23:52:53.752376",
     "status": "completed"
    },
    "tags": []
   },
   "outputs": [],
   "source": [
    "preds = learn.predict()"
   ]
  },
  {
   "cell_type": "code",
   "execution_count": 15,
   "metadata": {
    "execution": {
     "iopub.execute_input": "2020-10-05T23:52:55.054133Z",
     "iopub.status.busy": "2020-10-05T23:52:55.053081Z",
     "iopub.status.idle": "2020-10-05T23:52:56.503503Z",
     "shell.execute_reply": "2020-10-05T23:52:56.502681Z"
    },
    "papermill": {
     "duration": 1.732459,
     "end_time": "2020-10-05T23:52:56.503632",
     "exception": false,
     "start_time": "2020-10-05T23:52:54.771173",
     "status": "completed"
    },
    "tags": []
   },
   "outputs": [
    {
     "data": {
      "image/png": "[encoded data removed]",
      "text/plain": [
       "<Figure size 432x432 with 3 Axes>"
      ]
     },
     "metadata": {
      "needs_background": "light"
     },
     "output_type": "display_data"
    }
   ],
   "source": [
    "y=learn.data.val_y\n",
    "sns.jointplot(preds, y, kind='hex', stat_func=None);"
   ]
  },
  {
   "cell_type": "markdown",
   "metadata": {
    "papermill": {
     "duration": 0.276648,
     "end_time": "2020-10-05T23:52:57.071394",
     "exception": false,
     "start_time": "2020-10-05T23:52:56.794746",
     "status": "completed"
    },
    "tags": []
   },
   "source": [
    "## Predictive Analysis "
   ]
  },
  {
   "cell_type": "markdown",
   "metadata": {
    "papermill": {
     "duration": 0.279531,
     "end_time": "2020-10-05T23:52:57.629379",
     "exception": false,
     "start_time": "2020-10-05T23:52:57.349848",
     "status": "completed"
    },
    "tags": []
   },
   "source": [
    "### Movie bias"
   ]
  },
  {
   "cell_type": "code",
   "execution_count": 16,
   "metadata": {
    "execution": {
     "iopub.execute_input": "2020-10-05T23:52:58.210022Z",
     "iopub.status.busy": "2020-10-05T23:52:58.208996Z",
     "iopub.status.idle": "2020-10-05T23:52:58.253680Z",
     "shell.execute_reply": "2020-10-05T23:52:58.254277Z"
    },
    "papermill": {
     "duration": 0.340674,
     "end_time": "2020-10-05T23:52:58.254429",
     "exception": false,
     "start_time": "2020-10-05T23:52:57.913755",
     "status": "completed"
    },
    "tags": []
   },
   "outputs": [
    {
     "data": {
      "text/plain": [
       "EmbeddingDotBias(\n",
       "  (u): Embedding(668, 50)\n",
       "  (i): Embedding(10325, 50)\n",
       "  (ub): Embedding(668, 1)\n",
       "  (ib): Embedding(10325, 1)\n",
       ")"
      ]
     },
     "execution_count": 16,
     "metadata": {},
     "output_type": "execute_result"
    }
   ],
   "source": [
    "m=learn.model; m.cuda()"
   ]
  },
  {
   "cell_type": "markdown",
   "metadata": {
    "papermill": {
     "duration": 0.276772,
     "end_time": "2020-10-05T23:52:58.856045",
     "exception": false,
     "start_time": "2020-10-05T23:52:58.579273",
     "status": "completed"
    },
    "tags": []
   },
   "source": [
    "First, we'll look at the movie bias term. Here, our input is the movie id (a single id), and the output is the movie bias (a single float)."
   ]
  },
  {
   "cell_type": "code",
   "execution_count": 17,
   "metadata": {
    "execution": {
     "iopub.execute_input": "2020-10-05T23:52:59.416840Z",
     "iopub.status.busy": "2020-10-05T23:52:59.415820Z",
     "iopub.status.idle": "2020-10-05T23:52:59.457778Z",
     "shell.execute_reply": "2020-10-05T23:52:59.458409Z"
    },
    "papermill": {
     "duration": 0.325649,
     "end_time": "2020-10-05T23:52:59.458577",
     "exception": false,
     "start_time": "2020-10-05T23:52:59.132928",
     "status": "completed"
    },
    "tags": []
   },
   "outputs": [],
   "source": [
    "movie_bias = to_np(m.ib(V(topMovieIdx)))"
   ]
  },
  {
   "cell_type": "code",
   "execution_count": 18,
   "metadata": {
    "execution": {
     "iopub.execute_input": "2020-10-05T23:53:00.020674Z",
     "iopub.status.busy": "2020-10-05T23:53:00.019600Z",
     "iopub.status.idle": "2020-10-05T23:53:00.065047Z",
     "shell.execute_reply": "2020-10-05T23:53:00.065682Z"
    },
    "papermill": {
     "duration": 0.328539,
     "end_time": "2020-10-05T23:53:00.065875",
     "exception": false,
     "start_time": "2020-10-05T23:52:59.737336",
     "status": "completed"
    },
    "tags": []
   },
   "outputs": [
    {
     "data": {
      "text/plain": [
       "array([[ 0.82617],\n",
       "       [ 0.9039 ],\n",
       "       [ 1.21164],\n",
       "       ...,\n",
       "       [-0.20065],\n",
       "       [-0.00291],\n",
       "       [ 0.09668]], dtype=float32)"
      ]
     },
     "execution_count": 18,
     "metadata": {},
     "output_type": "execute_result"
    }
   ],
   "source": [
    "movie_bias"
   ]
  },
  {
   "cell_type": "code",
   "execution_count": 19,
   "metadata": {
    "execution": {
     "iopub.execute_input": "2020-10-05T23:53:00.640921Z",
     "iopub.status.busy": "2020-10-05T23:53:00.639895Z",
     "iopub.status.idle": "2020-10-05T23:53:00.689222Z",
     "shell.execute_reply": "2020-10-05T23:53:00.688432Z"
    },
    "papermill": {
     "duration": 0.334307,
     "end_time": "2020-10-05T23:53:00.689353",
     "exception": false,
     "start_time": "2020-10-05T23:53:00.355046",
     "status": "completed"
    },
    "tags": []
   },
   "outputs": [],
   "source": [
    "movie_ratings = [(b[0], movie_names[i]) for i,b in zip(topMovies,movie_bias)]"
   ]
  },
  {
   "cell_type": "markdown",
   "metadata": {
    "papermill": {
     "duration": 0.280194,
     "end_time": "2020-10-05T23:53:01.246748",
     "exception": false,
     "start_time": "2020-10-05T23:53:00.966554",
     "status": "completed"
    },
    "tags": []
   },
   "source": [
    "Now we can look at the top and bottom rated movies. These ratings are corrected for different levels of reviewer sentiment, as well as different types of movies that different reviewers watch."
   ]
  },
  {
   "cell_type": "code",
   "execution_count": 20,
   "metadata": {
    "execution": {
     "iopub.execute_input": "2020-10-05T23:53:01.810651Z",
     "iopub.status.busy": "2020-10-05T23:53:01.809627Z",
     "iopub.status.idle": "2020-10-05T23:53:01.857341Z",
     "shell.execute_reply": "2020-10-05T23:53:01.857927Z"
    },
    "papermill": {
     "duration": 0.331928,
     "end_time": "2020-10-05T23:53:01.858081",
     "exception": false,
     "start_time": "2020-10-05T23:53:01.526153",
     "status": "completed"
    },
    "tags": []
   },
   "outputs": [
    {
     "data": {
      "text/plain": [
       "[(-1.1244253, 'Battlefield Earth (2000)'),\n",
       " (-0.9182625, 'Super Mario Bros. (1993)'),\n",
       " (-0.8267855, 'Police Academy 6: City Under Siege (1989)'),\n",
       " (-0.8239656, 'Speed 2: Cruise Control (1997)'),\n",
       " (-0.80927116, 'Showgirls (1995)'),\n",
       " (-0.8032202, 'Stop! Or My Mom Will Shoot (1992)'),\n",
       " (-0.7938442, 'Grease 2 (1982)'),\n",
       " (-0.77348864, 'Wild Wild West (1999)'),\n",
       " (-0.7678431, 'I Still Know What You Did Last Summer (1998)'),\n",
       " (-0.76340234, 'Catwoman (2004)'),\n",
       " (-0.7421684, 'Mighty Morphin Power Rangers: The Movie (1995)'),\n",
       " (-0.71428686, 'Anaconda (1997)'),\n",
       " (-0.7065727, 'Barb Wire (1996)'),\n",
       " (-0.6923971, 'Mortal Kombat: Annihilation (1997)'),\n",
       " (-0.6811281, 'Flintstones in Viva Rock Vegas, The (2000)')]"
      ]
     },
     "execution_count": 20,
     "metadata": {},
     "output_type": "execute_result"
    }
   ],
   "source": [
    "sorted(movie_ratings, key=lambda o: o[0])[:15]"
   ]
  },
  {
   "cell_type": "code",
   "execution_count": 21,
   "metadata": {
    "execution": {
     "iopub.execute_input": "2020-10-05T23:53:02.422564Z",
     "iopub.status.busy": "2020-10-05T23:53:02.421549Z",
     "iopub.status.idle": "2020-10-05T23:53:02.470264Z",
     "shell.execute_reply": "2020-10-05T23:53:02.469635Z"
    },
    "papermill": {
     "duration": 0.333217,
     "end_time": "2020-10-05T23:53:02.470382",
     "exception": false,
     "start_time": "2020-10-05T23:53:02.137165",
     "status": "completed"
    },
    "tags": []
   },
   "outputs": [
    {
     "data": {
      "text/plain": [
       "[(1.2116449, 'Shawshank Redemption, The (1994)'),\n",
       " (1.0597835, 'Godfather, The (1972)'),\n",
       " (1.0252413, 'Usual Suspects, The (1995)'),\n",
       " (1.0087525, \"Schindler's List (1993)\"),\n",
       " (0.985322, 'Monty Python and the Holy Grail (1975)'),\n",
       " (0.9737719, 'Citizen Kane (1941)'),\n",
       " (0.9634583, 'Matrix, The (1999)'),\n",
       " (0.95129657, 'Silence of the Lambs, The (1991)'),\n",
       " (0.9493788, 'Fargo (1996)'),\n",
       " (0.92637116, 'Goodfellas (1990)'),\n",
       " (0.90389806, 'Forrest Gump (1994)'),\n",
       " (0.89487666, 'Star Wars: Episode V - The Empire Strikes Back (1980)'),\n",
       " (0.8864223, \"One Flew Over the Cuckoo's Nest (1975)\"),\n",
       " (0.8846516, 'Sixth Sense, The (1999)'),\n",
       " (0.8840405, 'Star Wars: Episode IV - A New Hope (1977)')]"
      ]
     },
     "execution_count": 21,
     "metadata": {},
     "output_type": "execute_result"
    }
   ],
   "source": [
    "sorted(movie_ratings, key=lambda o: o[0], reverse=True)[:15]"
   ]
  },
  {
   "cell_type": "markdown",
   "metadata": {
    "papermill": {
     "duration": 0.282042,
     "end_time": "2020-10-05T23:53:03.032878",
     "exception": false,
     "start_time": "2020-10-05T23:53:02.750836",
     "status": "completed"
    },
    "tags": []
   },
   "source": [
    "### Embedding interpretation"
   ]
  },
  {
   "cell_type": "markdown",
   "metadata": {
    "papermill": {
     "duration": 0.279517,
     "end_time": "2020-10-05T23:53:03.593415",
     "exception": false,
     "start_time": "2020-10-05T23:53:03.313898",
     "status": "completed"
    },
    "tags": []
   },
   "source": [
    "We can now do the same thing for the embeddings."
   ]
  },
  {
   "cell_type": "code",
   "execution_count": 22,
   "metadata": {
    "execution": {
     "iopub.execute_input": "2020-10-05T23:53:04.160013Z",
     "iopub.status.busy": "2020-10-05T23:53:04.158996Z",
     "iopub.status.idle": "2020-10-05T23:53:04.204126Z",
     "shell.execute_reply": "2020-10-05T23:53:04.204719Z"
    },
    "papermill": {
     "duration": 0.330968,
     "end_time": "2020-10-05T23:53:04.204890",
     "exception": false,
     "start_time": "2020-10-05T23:53:03.873922",
     "status": "completed"
    },
    "tags": []
   },
   "outputs": [
    {
     "data": {
      "text/plain": [
       "(3000, 50)"
      ]
     },
     "execution_count": 22,
     "metadata": {},
     "output_type": "execute_result"
    }
   ],
   "source": [
    "movie_emb = to_np(m.i(V(topMovieIdx)))\n",
    "movie_emb.shape"
   ]
  },
  {
   "cell_type": "markdown",
   "metadata": {
    "papermill": {
     "duration": 0.28041,
     "end_time": "2020-10-05T23:53:04.767450",
     "exception": false,
     "start_time": "2020-10-05T23:53:04.487040",
     "status": "completed"
    },
    "tags": []
   },
   "source": [
    "Because it's hard to interpret 50 embeddings, we use [PCA](https://plot.ly/ipython-notebooks/principal-component-analysis/) to simplify them down to just 3 vectors. "
   ]
  },
  {
   "cell_type": "code",
   "execution_count": 23,
   "metadata": {
    "execution": {
     "iopub.execute_input": "2020-10-05T23:53:05.335180Z",
     "iopub.status.busy": "2020-10-05T23:53:05.334185Z",
     "iopub.status.idle": "2020-10-05T23:53:05.453171Z",
     "shell.execute_reply": "2020-10-05T23:53:05.452208Z"
    },
    "papermill": {
     "duration": 0.405497,
     "end_time": "2020-10-05T23:53:05.453321",
     "exception": false,
     "start_time": "2020-10-05T23:53:05.047824",
     "status": "completed"
    },
    "tags": []
   },
   "outputs": [],
   "source": [
    "from sklearn.decomposition import PCA\n",
    "pca = PCA(n_components=3)\n",
    "movie_pca = pca.fit(movie_emb.T).components_"
   ]
  },
  {
   "cell_type": "code",
   "execution_count": 24,
   "metadata": {
    "execution": {
     "iopub.execute_input": "2020-10-05T23:53:06.026439Z",
     "iopub.status.busy": "2020-10-05T23:53:06.025145Z",
     "iopub.status.idle": "2020-10-05T23:53:06.072580Z",
     "shell.execute_reply": "2020-10-05T23:53:06.073182Z"
    },
    "papermill": {
     "duration": 0.336583,
     "end_time": "2020-10-05T23:53:06.073338",
     "exception": false,
     "start_time": "2020-10-05T23:53:05.736755",
     "status": "completed"
    },
    "tags": []
   },
   "outputs": [
    {
     "data": {
      "text/plain": [
       "(3, 3000)"
      ]
     },
     "execution_count": 24,
     "metadata": {},
     "output_type": "execute_result"
    }
   ],
   "source": [
    "movie_pca.shape"
   ]
  },
  {
   "cell_type": "code",
   "execution_count": 25,
   "metadata": {
    "execution": {
     "iopub.execute_input": "2020-10-05T23:53:06.650726Z",
     "iopub.status.busy": "2020-10-05T23:53:06.649685Z",
     "iopub.status.idle": "2020-10-05T23:53:06.713355Z",
     "shell.execute_reply": "2020-10-05T23:53:06.715668Z"
    },
    "papermill": {
     "duration": 0.353622,
     "end_time": "2020-10-05T23:53:06.715926",
     "exception": false,
     "start_time": "2020-10-05T23:53:06.362304",
     "status": "completed"
    },
    "tags": []
   },
   "outputs": [],
   "source": [
    "fac0 = movie_pca[0]\n",
    "movie_comp = [(f, movie_names[i]) for f,i in zip(fac0, topMovies)]"
   ]
  },
  {
   "cell_type": "markdown",
   "metadata": {
    "papermill": {
     "duration": 0.35797,
     "end_time": "2020-10-05T23:53:07.511639",
     "exception": false,
     "start_time": "2020-10-05T23:53:07.153669",
     "status": "completed"
    },
    "tags": []
   },
   "source": [
    "Here's the 1st component. It seems to be 'easy watching' vs 'serious'."
   ]
  },
  {
   "cell_type": "code",
   "execution_count": 26,
   "metadata": {
    "execution": {
     "iopub.execute_input": "2020-10-05T23:53:08.093234Z",
     "iopub.status.busy": "2020-10-05T23:53:08.092143Z",
     "iopub.status.idle": "2020-10-05T23:53:08.143072Z",
     "shell.execute_reply": "2020-10-05T23:53:08.143649Z"
    },
    "papermill": {
     "duration": 0.339467,
     "end_time": "2020-10-05T23:53:08.143822",
     "exception": false,
     "start_time": "2020-10-05T23:53:07.804355",
     "status": "completed"
    },
    "tags": []
   },
   "outputs": [
    {
     "data": {
      "text/plain": [
       "[(0.085238464, 'Pulp Fiction (1994)'),\n",
       " (0.08428497, 'Clockwork Orange, A (1971)'),\n",
       " (0.08093001, 'Crouching Tiger, Hidden Dragon (Wo hu cang long) (2000)'),\n",
       " (0.0767241, 'Reservoir Dogs (1992)'),\n",
       " (0.06610708, 'Being John Malkovich (1999)'),\n",
       " (0.06610048, 'Apocalypse Now (1979)'),\n",
       " (0.06484788, 'Twelve Monkeys (a.k.a. 12 Monkeys) (1995)'),\n",
       " (0.064068064, 'Shining, The (1980)'),\n",
       " (0.062300585, 'Full Metal Jacket (1987)'),\n",
       " (0.06020407, 'Taxi Driver (1976)')]"
      ]
     },
     "execution_count": 26,
     "metadata": {},
     "output_type": "execute_result"
    }
   ],
   "source": [
    "sorted(movie_comp, key=itemgetter(0), reverse=True)[:10]"
   ]
  },
  {
   "cell_type": "code",
   "execution_count": 27,
   "metadata": {
    "execution": {
     "iopub.execute_input": "2020-10-05T23:53:08.723901Z",
     "iopub.status.busy": "2020-10-05T23:53:08.722878Z",
     "iopub.status.idle": "2020-10-05T23:53:08.768353Z",
     "shell.execute_reply": "2020-10-05T23:53:08.768955Z"
    },
    "papermill": {
     "duration": 0.34006,
     "end_time": "2020-10-05T23:53:08.769110",
     "exception": false,
     "start_time": "2020-10-05T23:53:08.429050",
     "status": "completed"
    },
    "tags": []
   },
   "outputs": [
    {
     "data": {
      "text/plain": [
       "[(-0.078861296, 'Armageddon (1998)'),\n",
       " (-0.072699994, 'First Knight (1995)'),\n",
       " (-0.06696479, 'Pretty Woman (1990)'),\n",
       " (-0.06684895, 'While You Were Sleeping (1995)'),\n",
       " (-0.0655757, 'Ghost (1990)'),\n",
       " (-0.065107405, 'Broken Arrow (1996)'),\n",
       " (-0.06510313, 'Pearl Harbor (2001)'),\n",
       " (-0.06398745, 'Net, The (1995)'),\n",
       " (-0.058995817, 'Cliffhanger (1993)'),\n",
       " (-0.058574, 'Batman & Robin (1997)')]"
      ]
     },
     "execution_count": 27,
     "metadata": {},
     "output_type": "execute_result"
    }
   ],
   "source": [
    "sorted(movie_comp, key=itemgetter(0))[:10]"
   ]
  },
  {
   "cell_type": "code",
   "execution_count": 28,
   "metadata": {
    "execution": {
     "iopub.execute_input": "2020-10-05T23:53:09.344414Z",
     "iopub.status.busy": "2020-10-05T23:53:09.343308Z",
     "iopub.status.idle": "2020-10-05T23:53:09.394939Z",
     "shell.execute_reply": "2020-10-05T23:53:09.394272Z"
    },
    "papermill": {
     "duration": 0.342519,
     "end_time": "2020-10-05T23:53:09.395125",
     "exception": false,
     "start_time": "2020-10-05T23:53:09.052606",
     "status": "completed"
    },
    "tags": []
   },
   "outputs": [],
   "source": [
    "fac1 = movie_pca[1]\n",
    "movie_comp = [(f, movie_names[i]) for f,i in zip(fac1, topMovies)]"
   ]
  },
  {
   "cell_type": "markdown",
   "metadata": {
    "papermill": {
     "duration": 0.283516,
     "end_time": "2020-10-05T23:53:09.966066",
     "exception": false,
     "start_time": "2020-10-05T23:53:09.682550",
     "status": "completed"
    },
    "tags": []
   },
   "source": [
    "Here's the 2nd component. It seems to be 'Hit' vs 'Not that impact'."
   ]
  },
  {
   "cell_type": "code",
   "execution_count": 29,
   "metadata": {
    "execution": {
     "iopub.execute_input": "2020-10-05T23:53:10.545293Z",
     "iopub.status.busy": "2020-10-05T23:53:10.544276Z",
     "iopub.status.idle": "2020-10-05T23:53:10.591026Z",
     "shell.execute_reply": "2020-10-05T23:53:10.591571Z"
    },
    "papermill": {
     "duration": 0.34224,
     "end_time": "2020-10-05T23:53:10.591713",
     "exception": false,
     "start_time": "2020-10-05T23:53:10.249473",
     "status": "completed"
    },
    "tags": []
   },
   "outputs": [
    {
     "data": {
      "text/plain": [
       "[(0.059391815, 'Johnny Mnemonic (1995)'),\n",
       " (0.058357053, 'Escape from L.A. (1996)'),\n",
       " (0.058232587, 'Adventures of Priscilla, Queen of the Desert, The (1994)'),\n",
       " (0.056227732, 'Barb Wire (1996)'),\n",
       " (0.055704262, 'Police Academy 6: City Under Siege (1989)'),\n",
       " (0.05502587, 'Toys (1992)'),\n",
       " (0.05000204, 'Godzilla (1998)'),\n",
       " (0.047982965, 'Solaris (Solyaris) (1972)'),\n",
       " (0.04660955, 'Congo (1995)'),\n",
       " (0.044690304, 'RoboCop 2 (1990)')]"
      ]
     },
     "execution_count": 29,
     "metadata": {},
     "output_type": "execute_result"
    }
   ],
   "source": [
    "sorted(movie_comp, key=itemgetter(0), reverse=True)[:10]"
   ]
  },
  {
   "cell_type": "code",
   "execution_count": 30,
   "metadata": {
    "execution": {
     "iopub.execute_input": "2020-10-05T23:53:11.167732Z",
     "iopub.status.busy": "2020-10-05T23:53:11.166668Z",
     "iopub.status.idle": "2020-10-05T23:53:11.214756Z",
     "shell.execute_reply": "2020-10-05T23:53:11.215396Z"
    },
    "papermill": {
     "duration": 0.339473,
     "end_time": "2020-10-05T23:53:11.215547",
     "exception": false,
     "start_time": "2020-10-05T23:53:10.876074",
     "status": "completed"
    },
    "tags": []
   },
   "outputs": [
    {
     "data": {
      "text/plain": [
       "[(-0.1186391, 'Jurassic Park (1993)'),\n",
       " (-0.09505833, 'Aliens (1986)'),\n",
       " (-0.09293872, 'Terminator 2: Judgment Day (1991)'),\n",
       " (-0.09105156, 'Forrest Gump (1994)'),\n",
       " (-0.08916951, 'Die Hard (1988)'),\n",
       " (-0.08878745, 'Ben-Hur (1959)'),\n",
       " (-0.08058883, 'Back to the Future (1985)'),\n",
       " (-0.07819819, 'Top Gun (1986)'),\n",
       " (-0.07789384, 'Star Wars: Episode V - The Empire Strikes Back (1980)'),\n",
       " (-0.077571526, 'Lord of the Rings: The Return of the King, The (2003)')]"
      ]
     },
     "execution_count": 30,
     "metadata": {},
     "output_type": "execute_result"
    }
   ],
   "source": [
    "sorted(movie_comp, key=itemgetter(0))[:10]"
   ]
  },
  {
   "cell_type": "markdown",
   "metadata": {
    "papermill": {
     "duration": 0.286235,
     "end_time": "2020-10-05T23:53:11.788922",
     "exception": false,
     "start_time": "2020-10-05T23:53:11.502687",
     "status": "completed"
    },
    "tags": []
   },
   "source": [
    "We can draw a picture to see how various movies appear on the map of these components. This picture shows the first two components."
   ]
  },
  {
   "cell_type": "code",
   "execution_count": 31,
   "metadata": {
    "execution": {
     "iopub.execute_input": "2020-10-05T23:53:12.375636Z",
     "iopub.status.busy": "2020-10-05T23:53:12.374420Z",
     "iopub.status.idle": "2020-10-05T23:53:12.909132Z",
     "shell.execute_reply": "2020-10-05T23:53:12.909709Z"
    },
    "papermill": {
     "duration": 0.826904,
     "end_time": "2020-10-05T23:53:12.909881",
     "exception": false,
     "start_time": "2020-10-05T23:53:12.082977",
     "status": "completed"
    },
    "tags": []
   },
   "outputs": [
    {
     "data": {
      "image/png": "[encoded data removed]",
      "text/plain": [
       "<Figure size 1080x1080 with 1 Axes>"
      ]
     },
     "metadata": {
      "needs_background": "light"
     },
     "output_type": "display_data"
    }
   ],
   "source": [
    "idxs = np.random.choice(len(topMovies), 50, replace=False)\n",
    "X = fac0[idxs]\n",
    "Y = fac1[idxs]\n",
    "plt.figure(figsize=(15,15))\n",
    "plt.scatter(X, Y)\n",
    "for i, x, y in zip(topMovies[idxs], X, Y):\n",
    "    plt.text(x,y,movie_names[i], color=np.random.rand(3)*0.7, fontsize=11)\n",
    "plt.show()"
   ]
  },
  {
   "cell_type": "markdown",
   "metadata": {
    "papermill": {
     "duration": 0.288996,
     "end_time": "2020-10-05T23:53:13.489279",
     "exception": false,
     "start_time": "2020-10-05T23:53:13.200283",
     "status": "completed"
    },
    "tags": []
   },
   "source": [
    "# Conclusion"
   ]
  },
  {
   "cell_type": "markdown",
   "metadata": {
    "papermill": {
     "duration": 0.286502,
     "end_time": "2020-10-05T23:53:14.064027",
     "exception": false,
     "start_time": "2020-10-05T23:53:13.777525",
     "status": "completed"
    },
    "tags": []
   },
   "source": [
    "We have successfully built a recommendation system using matrix factoring and neural nets.\n",
    "\n",
    "There are many other ways in which a recommendation system can be built, the typical one these days use a lot of simulation techniques and extensive deep learning algorithms.\n",
    "\n",
    "Happy Learning<br>\n",
    "Cheerio!"
   ]
  },
  {
   "cell_type": "markdown",
   "metadata": {
    "papermill": {
     "duration": 0.288173,
     "end_time": "2020-10-05T23:53:14.639630",
     "exception": false,
     "start_time": "2020-10-05T23:53:14.351457",
     "status": "completed"
    },
    "tags": []
   },
   "source": [
    "# EOF"
   ]
  },
  {
   "cell_type": "code",
   "execution_count": null,
   "metadata": {
    "papermill": {
     "duration": 0.286205,
     "end_time": "2020-10-05T23:53:15.213540",
     "exception": false,
     "start_time": "2020-10-05T23:53:14.927335",
     "status": "completed"
    },
    "tags": []
   },
   "outputs": [],
   "source": []
  }
 ],
 "metadata": {
  "kernelspec": {
   "display_name": "Python 3",
   "language": "python",
   "name": "python3"
  },
  "language_info": {
   "codemirror_mode": {
    "name": "ipython",
    "version": 3
   },
   "file_extension": ".py",
   "mimetype": "text/x-python",
   "name": "python",
   "nbconvert_exporter": "python",
   "pygments_lexer": "ipython3",
   "version": "3.7.6"
  },
  "papermill": {
   "duration": 105.621611,
   "end_time": "2020-10-05T23:53:15.914046",
   "environment_variables": {},
   "exception": null,
   "input_path": "__notebook__.ipynb",
   "output_path": "__notebook__.ipynb",
   "parameters": {},
   "start_time": "2020-10-05T23:51:30.292435",
   "version": "2.1.0"
  },
  "widgets": {
   "application/vnd.jupyter.widget-state+json": {
    "state": {
     "1341dc4ebc0543b6a79400f0e22a6c8c": {
      "model_module": "@jupyter-widgets/controls",
      "model_module_version": "1.5.0",
      "model_name": "FloatProgressModel",
      "state": {
       "_dom_classes": [],
       "_model_module": "@jupyter-widgets/controls",
       "_model_module_version": "1.5.0",
       "_model_name": "FloatProgressModel",
       "_view_count": null,
       "_view_module": "@jupyter-widgets/controls",
       "_view_module_version": "1.5.0",
       "_view_name": "ProgressView",
       "bar_style": "success",
       "description": "Epoch: 100%",
       "description_tooltip": null,
       "layout": "IPY_MODEL_8445d52031244e9b95afcbc5d8023a0e",
       "max": 3.0,
       "min": 0.0,
       "orientation": "horizontal",
       "style": "IPY_MODEL_3ec60541532b4ae39ca25054acfd2658",
       "value": 3.0
      }
     },
     "1dfa5a04eebd4b0a8cc6c05da6d579e1": {
      "model_module": "@jupyter-widgets/base",
      "model_module_version": "1.2.0",
      "model_name": "LayoutModel",
      "state": {
       "_model_module": "@jupyter-widgets/base",
       "_model_module_version": "1.2.0",
       "_model_name": "LayoutModel",
       "_view_count": null,
       "_view_module": "@jupyter-widgets/base",
       "_view_module_version": "1.2.0",
       "_view_name": "LayoutView",
       "align_content": null,
       "align_items": null,
       "align_self": null,
       "border": null,
       "bottom": null,
       "display": null,
       "flex": null,
       "flex_flow": null,
       "grid_area": null,
       "grid_auto_columns": null,
       "grid_auto_flow": null,
       "grid_auto_rows": null,
       "grid_column": null,
       "grid_gap": null,
       "grid_row": null,
       "grid_template_areas": null,
       "grid_template_columns": null,
       "grid_template_rows": null,
       "height": null,
       "justify_content": null,
       "justify_items": null,
       "left": null,
       "margin": null,
       "max_height": null,
       "max_width": null,
       "min_height": null,
       "min_width": null,
       "object_fit": null,
       "object_position": null,
       "order": null,
       "overflow": null,
       "overflow_x": null,
       "overflow_y": null,
       "padding": null,
       "right": null,
       "top": null,
       "visibility": null,
       "width": null
      }
     },
     "354cd378f74d4b89b2b2b40692885076": {
      "model_module": "@jupyter-widgets/controls",
      "model_module_version": "1.5.0",
      "model_name": "DescriptionStyleModel",
      "state": {
       "_model_module": "@jupyter-widgets/controls",
       "_model_module_version": "1.5.0",
       "_model_name": "DescriptionStyleModel",
       "_view_count": null,
       "_view_module": "@jupyter-widgets/base",
       "_view_module_version": "1.2.0",
       "_view_name": "StyleView",
       "description_width": ""
      }
     },
     "3ec60541532b4ae39ca25054acfd2658": {
      "model_module": "@jupyter-widgets/controls",
      "model_module_version": "1.5.0",
      "model_name": "ProgressStyleModel",
      "state": {
       "_model_module": "@jupyter-widgets/controls",
       "_model_module_version": "1.5.0",
       "_model_name": "ProgressStyleModel",
       "_view_count": null,
       "_view_module": "@jupyter-widgets/base",
       "_view_module_version": "1.2.0",
       "_view_name": "StyleView",
       "bar_color": null,
       "description_width": "initial"
      }
     },
     "3ec9c914c5b54d2eb850cd9345099c2a": {
      "model_module": "@jupyter-widgets/controls",
      "model_module_version": "1.5.0",
      "model_name": "FloatProgressModel",
      "state": {
       "_dom_classes": [],
       "_model_module": "@jupyter-widgets/controls",
       "_model_module_version": "1.5.0",
       "_model_name": "FloatProgressModel",
       "_view_count": null,
       "_view_module": "@jupyter-widgets/controls",
       "_view_module_version": "1.5.0",
       "_view_name": "ProgressView",
       "bar_style": "success",
       "description": "Epoch: 100%",
       "description_tooltip": null,
       "layout": "IPY_MODEL_91a7b8570f87472d9984372b3e4720fa",
       "max": 7.0,
       "min": 0.0,
       "orientation": "horizontal",
       "style": "IPY_MODEL_627a109625e542ac93ff66399735d275",
       "value": 7.0
      }
     },
     "434b72aa7fae482d9c7e6ac3ea7dc87a": {
      "model_module": "@jupyter-widgets/base",
      "model_module_version": "1.2.0",
      "model_name": "LayoutModel",
      "state": {
       "_model_module": "@jupyter-widgets/base",
       "_model_module_version": "1.2.0",
       "_model_name": "LayoutModel",
       "_view_count": null,
       "_view_module": "@jupyter-widgets/base",
       "_view_module_version": "1.2.0",
       "_view_name": "LayoutView",
       "align_content": null,
       "align_items": null,
       "align_self": null,
       "border": null,
       "bottom": null,
       "display": null,
       "flex": null,
       "flex_flow": null,
       "grid_area": null,
       "grid_auto_columns": null,
       "grid_auto_flow": null,
       "grid_auto_rows": null,
       "grid_column": null,
       "grid_gap": null,
       "grid_row": null,
       "grid_template_areas": null,
       "grid_template_columns": null,
       "grid_template_rows": null,
       "height": null,
       "justify_content": null,
       "justify_items": null,
       "left": null,
       "margin": null,
       "max_height": null,
       "max_width": null,
       "min_height": null,
       "min_width": null,
       "object_fit": null,
       "object_position": null,
       "order": null,
       "overflow": null,
       "overflow_x": null,
       "overflow_y": null,
       "padding": null,
       "right": null,
       "top": null,
       "visibility": null,
       "width": null
      }
     },
     "4d31dcf9e314429cad8bac8176a7e418": {
      "model_module": "@jupyter-widgets/controls",
      "model_module_version": "1.5.0",
      "model_name": "DescriptionStyleModel",
      "state": {
       "_model_module": "@jupyter-widgets/controls",
       "_model_module_version": "1.5.0",
       "_model_name": "DescriptionStyleModel",
       "_view_count": null,
       "_view_module": "@jupyter-widgets/base",
       "_view_module_version": "1.2.0",
       "_view_name": "StyleView",
       "description_width": ""
      }
     },
     "627a109625e542ac93ff66399735d275": {
      "model_module": "@jupyter-widgets/controls",
      "model_module_version": "1.5.0",
      "model_name": "ProgressStyleModel",
      "state": {
       "_model_module": "@jupyter-widgets/controls",
       "_model_module_version": "1.5.0",
       "_model_name": "ProgressStyleModel",
       "_view_count": null,
       "_view_module": "@jupyter-widgets/base",
       "_view_module_version": "1.2.0",
       "_view_name": "StyleView",
       "bar_color": null,
       "description_width": "initial"
      }
     },
     "75e2a956a554456e9a19e5cbb326ee45": {
      "model_module": "@jupyter-widgets/controls",
      "model_module_version": "1.5.0",
      "model_name": "HBoxModel",
      "state": {
       "_dom_classes": [],
       "_model_module": "@jupyter-widgets/controls",
       "_model_module_version": "1.5.0",
       "_model_name": "HBoxModel",
       "_view_count": null,
       "_view_module": "@jupyter-widgets/controls",
       "_view_module_version": "1.5.0",
       "_view_name": "HBoxView",
       "box_style": "",
       "children": [
        "IPY_MODEL_3ec9c914c5b54d2eb850cd9345099c2a",
        "IPY_MODEL_dc3a512b2e334651973aa9f194eb6c44"
       ],
       "layout": "IPY_MODEL_924163042a654346a1899e9b2bda602d"
      }
     },
     "7abe8817aa764aebadcae2d5f7841a09": {
      "model_module": "@jupyter-widgets/controls",
      "model_module_version": "1.5.0",
      "model_name": "HBoxModel",
      "state": {
       "_dom_classes": [],
       "_model_module": "@jupyter-widgets/controls",
       "_model_module_version": "1.5.0",
       "_model_name": "HBoxModel",
       "_view_count": null,
       "_view_module": "@jupyter-widgets/controls",
       "_view_module_version": "1.5.0",
       "_view_name": "HBoxView",
       "box_style": "",
       "children": [
        "IPY_MODEL_1341dc4ebc0543b6a79400f0e22a6c8c",
        "IPY_MODEL_f34e30e2357940768ace97a85b0755e5"
       ],
       "layout": "IPY_MODEL_1dfa5a04eebd4b0a8cc6c05da6d579e1"
      }
     },
     "8445d52031244e9b95afcbc5d8023a0e": {
      "model_module": "@jupyter-widgets/base",
      "model_module_version": "1.2.0",
      "model_name": "LayoutModel",
      "state": {
       "_model_module": "@jupyter-widgets/base",
       "_model_module_version": "1.2.0",
       "_model_name": "LayoutModel",
       "_view_count": null,
       "_view_module": "@jupyter-widgets/base",
       "_view_module_version": "1.2.0",
       "_view_name": "LayoutView",
       "align_content": null,
       "align_items": null,
       "align_self": null,
       "border": null,
       "bottom": null,
       "display": null,
       "flex": null,
       "flex_flow": null,
       "grid_area": null,
       "grid_auto_columns": null,
       "grid_auto_flow": null,
       "grid_auto_rows": null,
       "grid_column": null,
       "grid_gap": null,
       "grid_row": null,
       "grid_template_areas": null,
       "grid_template_columns": null,
       "grid_template_rows": null,
       "height": null,
       "justify_content": null,
       "justify_items": null,
       "left": null,
       "margin": null,
       "max_height": null,
       "max_width": null,
       "min_height": null,
       "min_width": null,
       "object_fit": null,
       "object_position": null,
       "order": null,
       "overflow": null,
       "overflow_x": null,
       "overflow_y": null,
       "padding": null,
       "right": null,
       "top": null,
       "visibility": null,
       "width": null
      }
     },
     "89ae56e836cd4ab9a0508ebac26ad9bd": {
      "model_module": "@jupyter-widgets/controls",
      "model_module_version": "1.5.0",
      "model_name": "FloatProgressModel",
      "state": {
       "_dom_classes": [],
       "_model_module": "@jupyter-widgets/controls",
       "_model_module_version": "1.5.0",
       "_model_name": "FloatProgressModel",
       "_view_count": null,
       "_view_module": "@jupyter-widgets/controls",
       "_view_module_version": "1.5.0",
       "_view_name": "ProgressView",
       "bar_style": "success",
       "description": "Epoch: 100%",
       "description_tooltip": null,
       "layout": "IPY_MODEL_a710ca65e3b8437e86b77ffffb985c74",
       "max": 3.0,
       "min": 0.0,
       "orientation": "horizontal",
       "style": "IPY_MODEL_f54e99a4c36c4969b56cc1f414bb3a71",
       "value": 3.0
      }
     },
     "91a7b8570f87472d9984372b3e4720fa": {
      "model_module": "@jupyter-widgets/base",
      "model_module_version": "1.2.0",
      "model_name": "LayoutModel",
      "state": {
       "_model_module": "@jupyter-widgets/base",
       "_model_module_version": "1.2.0",
       "_model_name": "LayoutModel",
       "_view_count": null,
       "_view_module": "@jupyter-widgets/base",
       "_view_module_version": "1.2.0",
       "_view_name": "LayoutView",
       "align_content": null,
       "align_items": null,
       "align_self": null,
       "border": null,
       "bottom": null,
       "display": null,
       "flex": null,
       "flex_flow": null,
       "grid_area": null,
       "grid_auto_columns": null,
       "grid_auto_flow": null,
       "grid_auto_rows": null,
       "grid_column": null,
       "grid_gap": null,
       "grid_row": null,
       "grid_template_areas": null,
       "grid_template_columns": null,
       "grid_template_rows": null,
       "height": null,
       "justify_content": null,
       "justify_items": null,
       "left": null,
       "margin": null,
       "max_height": null,
       "max_width": null,
       "min_height": null,
       "min_width": null,
       "object_fit": null,
       "object_position": null,
       "order": null,
       "overflow": null,
       "overflow_x": null,
       "overflow_y": null,
       "padding": null,
       "right": null,
       "top": null,
       "visibility": null,
       "width": null
      }
     },
     "924163042a654346a1899e9b2bda602d": {
      "model_module": "@jupyter-widgets/base",
      "model_module_version": "1.2.0",
      "model_name": "LayoutModel",
      "state": {
       "_model_module": "@jupyter-widgets/base",
       "_model_module_version": "1.2.0",
       "_model_name": "LayoutModel",
       "_view_count": null,
       "_view_module": "@jupyter-widgets/base",
       "_view_module_version": "1.2.0",
       "_view_name": "LayoutView",
       "align_content": null,
       "align_items": null,
       "align_self": null,
       "border": null,
       "bottom": null,
       "display": null,
       "flex": null,
       "flex_flow": null,
       "grid_area": null,
       "grid_auto_columns": null,
       "grid_auto_flow": null,
       "grid_auto_rows": null,
       "grid_column": null,
       "grid_gap": null,
       "grid_row": null,
       "grid_template_areas": null,
       "grid_template_columns": null,
       "grid_template_rows": null,
       "height": null,
       "justify_content": null,
       "justify_items": null,
       "left": null,
       "margin": null,
       "max_height": null,
       "max_width": null,
       "min_height": null,
       "min_width": null,
       "object_fit": null,
       "object_position": null,
       "order": null,
       "overflow": null,
       "overflow_x": null,
       "overflow_y": null,
       "padding": null,
       "right": null,
       "top": null,
       "visibility": null,
       "width": null
      }
     },
     "9518b21c7e674ed5b48b7f7d658ef9e9": {
      "model_module": "@jupyter-widgets/controls",
      "model_module_version": "1.5.0",
      "model_name": "HBoxModel",
      "state": {
       "_dom_classes": [],
       "_model_module": "@jupyter-widgets/controls",
       "_model_module_version": "1.5.0",
       "_model_name": "HBoxModel",
       "_view_count": null,
       "_view_module": "@jupyter-widgets/controls",
       "_view_module_version": "1.5.0",
       "_view_name": "HBoxView",
       "box_style": "",
       "children": [
        "IPY_MODEL_89ae56e836cd4ab9a0508ebac26ad9bd",
        "IPY_MODEL_a00b40c5bd1b45ca866603de7a77f1f4"
       ],
       "layout": "IPY_MODEL_c32fbd3c99e04f009dcff5c9df9f2872"
      }
     },
     "a00b40c5bd1b45ca866603de7a77f1f4": {
      "model_module": "@jupyter-widgets/controls",
      "model_module_version": "1.5.0",
      "model_name": "HTMLModel",
      "state": {
       "_dom_classes": [],
       "_model_module": "@jupyter-widgets/controls",
       "_model_module_version": "1.5.0",
       "_model_name": "HTMLModel",
       "_view_count": null,
       "_view_module": "@jupyter-widgets/controls",
       "_view_module_version": "1.5.0",
       "_view_name": "HTMLView",
       "description": "",
       "description_tooltip": null,
       "layout": "IPY_MODEL_e703a8c9bb4740fa859668aef4e44adb",
       "placeholder": "​",
       "style": "IPY_MODEL_354cd378f74d4b89b2b2b40692885076",
       "value": " 3/3 [00:22&lt;00:00,  7.47s/it]"
      }
     },
     "a710ca65e3b8437e86b77ffffb985c74": {
      "model_module": "@jupyter-widgets/base",
      "model_module_version": "1.2.0",
      "model_name": "LayoutModel",
      "state": {
       "_model_module": "@jupyter-widgets/base",
       "_model_module_version": "1.2.0",
       "_model_name": "LayoutModel",
       "_view_count": null,
       "_view_module": "@jupyter-widgets/base",
       "_view_module_version": "1.2.0",
       "_view_name": "LayoutView",
       "align_content": null,
       "align_items": null,
       "align_self": null,
       "border": null,
       "bottom": null,
       "display": null,
       "flex": null,
       "flex_flow": null,
       "grid_area": null,
       "grid_auto_columns": null,
       "grid_auto_flow": null,
       "grid_auto_rows": null,
       "grid_column": null,
       "grid_gap": null,
       "grid_row": null,
       "grid_template_areas": null,
       "grid_template_columns": null,
       "grid_template_rows": null,
       "height": null,
       "justify_content": null,
       "justify_items": null,
       "left": null,
       "margin": null,
       "max_height": null,
       "max_width": null,
       "min_height": null,
       "min_width": null,
       "object_fit": null,
       "object_position": null,
       "order": null,
       "overflow": null,
       "overflow_x": null,
       "overflow_y": null,
       "padding": null,
       "right": null,
       "top": null,
       "visibility": null,
       "width": null
      }
     },
     "b3c6d75e27934666a6c7b32bec0ed9d0": {
      "model_module": "@jupyter-widgets/controls",
      "model_module_version": "1.5.0",
      "model_name": "DescriptionStyleModel",
      "state": {
       "_model_module": "@jupyter-widgets/controls",
       "_model_module_version": "1.5.0",
       "_model_name": "DescriptionStyleModel",
       "_view_count": null,
       "_view_module": "@jupyter-widgets/base",
       "_view_module_version": "1.2.0",
       "_view_name": "StyleView",
       "description_width": ""
      }
     },
     "bb7552ebf1684d81a4fd4d06030f8ec5": {
      "model_module": "@jupyter-widgets/base",
      "model_module_version": "1.2.0",
      "model_name": "LayoutModel",
      "state": {
       "_model_module": "@jupyter-widgets/base",
       "_model_module_version": "1.2.0",
       "_model_name": "LayoutModel",
       "_view_count": null,
       "_view_module": "@jupyter-widgets/base",
       "_view_module_version": "1.2.0",
       "_view_name": "LayoutView",
       "align_content": null,
       "align_items": null,
       "align_self": null,
       "border": null,
       "bottom": null,
       "display": null,
       "flex": null,
       "flex_flow": null,
       "grid_area": null,
       "grid_auto_columns": null,
       "grid_auto_flow": null,
       "grid_auto_rows": null,
       "grid_column": null,
       "grid_gap": null,
       "grid_row": null,
       "grid_template_areas": null,
       "grid_template_columns": null,
       "grid_template_rows": null,
       "height": null,
       "justify_content": null,
       "justify_items": null,
       "left": null,
       "margin": null,
       "max_height": null,
       "max_width": null,
       "min_height": null,
       "min_width": null,
       "object_fit": null,
       "object_position": null,
       "order": null,
       "overflow": null,
       "overflow_x": null,
       "overflow_y": null,
       "padding": null,
       "right": null,
       "top": null,
       "visibility": null,
       "width": null
      }
     },
     "c32fbd3c99e04f009dcff5c9df9f2872": {
      "model_module": "@jupyter-widgets/base",
      "model_module_version": "1.2.0",
      "model_name": "LayoutModel",
      "state": {
       "_model_module": "@jupyter-widgets/base",
       "_model_module_version": "1.2.0",
       "_model_name": "LayoutModel",
       "_view_count": null,
       "_view_module": "@jupyter-widgets/base",
       "_view_module_version": "1.2.0",
       "_view_name": "LayoutView",
       "align_content": null,
       "align_items": null,
       "align_self": null,
       "border": null,
       "bottom": null,
       "display": null,
       "flex": null,
       "flex_flow": null,
       "grid_area": null,
       "grid_auto_columns": null,
       "grid_auto_flow": null,
       "grid_auto_rows": null,
       "grid_column": null,
       "grid_gap": null,
       "grid_row": null,
       "grid_template_areas": null,
       "grid_template_columns": null,
       "grid_template_rows": null,
       "height": null,
       "justify_content": null,
       "justify_items": null,
       "left": null,
       "margin": null,
       "max_height": null,
       "max_width": null,
       "min_height": null,
       "min_width": null,
       "object_fit": null,
       "object_position": null,
       "order": null,
       "overflow": null,
       "overflow_x": null,
       "overflow_y": null,
       "padding": null,
       "right": null,
       "top": null,
       "visibility": null,
       "width": null
      }
     },
     "dc3a512b2e334651973aa9f194eb6c44": {
      "model_module": "@jupyter-widgets/controls",
      "model_module_version": "1.5.0",
      "model_name": "HTMLModel",
      "state": {
       "_dom_classes": [],
       "_model_module": "@jupyter-widgets/controls",
       "_model_module_version": "1.5.0",
       "_model_name": "HTMLModel",
       "_view_count": null,
       "_view_module": "@jupyter-widgets/controls",
       "_view_module_version": "1.5.0",
       "_view_name": "HTMLView",
       "description": "",
       "description_tooltip": null,
       "layout": "IPY_MODEL_bb7552ebf1684d81a4fd4d06030f8ec5",
       "placeholder": "​",
       "style": "IPY_MODEL_b3c6d75e27934666a6c7b32bec0ed9d0",
       "value": " 7/7 [00:35&lt;00:00,  5.10s/it]"
      }
     },
     "e703a8c9bb4740fa859668aef4e44adb": {
      "model_module": "@jupyter-widgets/base",
      "model_module_version": "1.2.0",
      "model_name": "LayoutModel",
      "state": {
       "_model_module": "@jupyter-widgets/base",
       "_model_module_version": "1.2.0",
       "_model_name": "LayoutModel",
       "_view_count": null,
       "_view_module": "@jupyter-widgets/base",
       "_view_module_version": "1.2.0",
       "_view_name": "LayoutView",
       "align_content": null,
       "align_items": null,
       "align_self": null,
       "border": null,
       "bottom": null,
       "display": null,
       "flex": null,
       "flex_flow": null,
       "grid_area": null,
       "grid_auto_columns": null,
       "grid_auto_flow": null,
       "grid_auto_rows": null,
       "grid_column": null,
       "grid_gap": null,
       "grid_row": null,
       "grid_template_areas": null,
       "grid_template_columns": null,
       "grid_template_rows": null,
       "height": null,
       "justify_content": null,
       "justify_items": null,
       "left": null,
       "margin": null,
       "max_height": null,
       "max_width": null,
       "min_height": null,
       "min_width": null,
       "object_fit": null,
       "object_position": null,
       "order": null,
       "overflow": null,
       "overflow_x": null,
       "overflow_y": null,
       "padding": null,
       "right": null,
       "top": null,
       "visibility": null,
       "width": null
      }
     },
     "f34e30e2357940768ace97a85b0755e5": {
      "model_module": "@jupyter-widgets/controls",
      "model_module_version": "1.5.0",
      "model_name": "HTMLModel",
      "state": {
       "_dom_classes": [],
       "_model_module": "@jupyter-widgets/controls",
       "_model_module_version": "1.5.0",
       "_model_name": "HTMLModel",
       "_view_count": null,
       "_view_module": "@jupyter-widgets/controls",
       "_view_module_version": "1.5.0",
       "_view_name": "HTMLView",
       "description": "",
       "description_tooltip": null,
       "layout": "IPY_MODEL_434b72aa7fae482d9c7e6ac3ea7dc87a",
       "placeholder": "​",
       "style": "IPY_MODEL_4d31dcf9e314429cad8bac8176a7e418",
       "value": " 3/3 [00:11&lt;00:00,  3.79s/it]"
      }
     },
     "f54e99a4c36c4969b56cc1f414bb3a71": {
      "model_module": "@jupyter-widgets/controls",
      "model_module_version": "1.5.0",
      "model_name": "ProgressStyleModel",
      "state": {
       "_model_module": "@jupyter-widgets/controls",
       "_model_module_version": "1.5.0",
       "_model_name": "ProgressStyleModel",
       "_view_count": null,
       "_view_module": "@jupyter-widgets/base",
       "_view_module_version": "1.2.0",
       "_view_name": "StyleView",
       "bar_color": null,
       "description_width": "initial"
      }
     }
    },
    "version_major": 2,
    "version_minor": 0
   }
  }
 },
 "nbformat": 4,
 "nbformat_minor": 4
}
