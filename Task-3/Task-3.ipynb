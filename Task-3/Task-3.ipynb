{
 "cells": [
  {
   "cell_type": "markdown",
   "metadata": {},
   "source": [
    "# Imports"
   ]
  },
  {
   "cell_type": "code",
   "execution_count": 1,
   "metadata": {},
   "outputs": [],
   "source": [
    "from fastai.imports import *\n",
    "from bs4 import BeautifulSoup\n",
    "from tqdm import tqdm"
   ]
  },
  {
   "cell_type": "markdown",
   "metadata": {},
   "source": [
    "# Driver Functions"
   ]
  },
  {
   "cell_type": "code",
   "execution_count": 2,
   "metadata": {},
   "outputs": [],
   "source": [
    "def list_of_brands():\n",
    "    \n",
    "    brands_ = []\n",
    "    map_brands = {}\n",
    "    url_2 = \"https://www.next.co.uk/clearance/search?w=*&af=gender:men\"\n",
    "    page = requests.get(url_2)\n",
    "    soup = BeautifulSoup(page.text, 'html.parser').prettify()\n",
    "\n",
    "    a = soup.find(\"saleclearance.pageState.filters = \")\n",
    "    b = soup.find(\"saleclearance.pageState.filters_TotalResults\")\n",
    "    aa = soup[a+len(\"saleclearance.pageState.filters = \"):b].strip()[:-1]\n",
    "    list_of_filters = json.loads(aa)\n",
    "    for obj_brand in list_of_filters[3]['FilterOptions']:\n",
    "        map_brands[obj_brand['Value']] = obj_brand['Name'].lower()\n",
    "        brands_.append(obj_brand['Value'])\n",
    "\n",
    "    return map_brands, brands_"
   ]
  },
  {
   "cell_type": "code",
   "execution_count": 3,
   "metadata": {},
   "outputs": [],
   "source": [
    "def find_total_results(soup):\n",
    "    \n",
    "    text_for_total = \"saleclearance.pageState.filters_TotalResults = \"\n",
    "    pos = soup.find(text_for_total) + len(text_for_total)\n",
    "    res = \"\"\n",
    "    while(soup[pos]!= ';'):\n",
    "        res += soup[pos]\n",
    "        pos +=1\n",
    "    \n",
    "    return int(res)"
   ]
  },
  {
   "cell_type": "code",
   "execution_count": 4,
   "metadata": {},
   "outputs": [],
   "source": [
    "def source_to_data(soup):\n",
    "    \n",
    "    start = \"saleclearance.pageState.results = \"\n",
    "    end = \"saleclearance.pageState.isLandingPage = false\"\n",
    "    start_pos = soup.find(start) + len(start)\n",
    "    end_pos = soup.find(end)\n",
    "    return str(soup[start_pos:end_pos]).strip()[:-1]"
   ]
  },
  {
   "cell_type": "code",
   "execution_count": 5,
   "metadata": {},
   "outputs": [],
   "source": [
    "def parse_products_of_brand(url, brand):\n",
    "    \n",
    "    page = requests.get(url)\n",
    "    soup = BeautifulSoup(page.text, 'html.parser').prettify()\n",
    "    total_results = find_total_results(soup)\n",
    "    \n",
    "    no_pages=total_results//24 + (1 if total_results%24 > 0 else 0)\n",
    "    \n",
    "    pages = [i+1 for i in range(no_pages)]\n",
    "    str_list = [(i-1)*24 for i in pages]\n",
    "    \n",
    "    for str_no, page_no in zip(str_list, pages):\n",
    "        url_page = url + f\"%20&srt={str_no}#searchpos_{page_no}\"\n",
    "        per_page = requests.get(url_page)\n",
    "        soup_per_page = BeautifulSoup(per_page.text, 'html.parser').prettify()\n",
    "        \n",
    "        try:\n",
    "            list_of_products = json.loads(source_to_data(soup_per_page))\n",
    "        except e:\n",
    "            print(e)\n",
    "        \n",
    "        for product in list_of_products:\n",
    "            original_price = product['ItemOptions'][0]['OriginalPrice']\n",
    "            price = product['ItemOptions'][0]['Price']\n",
    "            image_url = product['SearchImage'] + product['Image']\n",
    "            data.append([product['Name'], brand, float(original_price), float(price), image_url])"
   ]
  },
  {
   "cell_type": "code",
   "execution_count": 6,
   "metadata": {},
   "outputs": [],
   "source": [
    "def add_to_df():\n",
    "    \n",
    "    global df\n",
    "    cols = ['Name', 'Brand', 'Original Price', 'Discounted Price', 'Image Url']\n",
    "    df = pd.DataFrame(data, columns=cols)\n",
    "    df.to_csv('output.csv', index=False)"
   ]
  },
  {
   "cell_type": "code",
   "execution_count": 7,
   "metadata": {},
   "outputs": [],
   "source": [
    "def main():\n",
    "    \n",
    "    global data\n",
    "    data = []\n",
    "    url_main = \"https://www.next.co.uk/clearance/search?w=*&af=gender:men\"\n",
    "    map_brands, brands = list_of_brands()\n",
    "    \n",
    "    for brand in tqdm(brands):\n",
    "        brand_link = f\"%20{brand}%20gender:men\"\n",
    "        link = url_main + brand_link\n",
    "        parse_products_of_brand(link, map_brands[brand])\n",
    "        \n",
    "    add_to_df()"
   ]
  },
  {
   "cell_type": "code",
   "execution_count": 8,
   "metadata": {
    "scrolled": true
   },
   "outputs": [
    {
     "name": "stderr",
     "output_type": "stream",
     "text": [
      "100%|██████████| 84/84 [03:52<00:00,  2.76s/it]\n"
     ]
    }
   ],
   "source": [
    "if __name__ == '__main__':\n",
    "    main()"
   ]
  },
  {
   "cell_type": "markdown",
   "metadata": {},
   "source": [
    "# EOF"
   ]
  },
  {
   "cell_type": "code",
   "execution_count": null,
   "metadata": {},
   "outputs": [],
   "source": []
  }
 ],
 "metadata": {
  "kernelspec": {
   "display_name": "Python 3",
   "language": "python",
   "name": "python3"
  },
  "language_info": {
   "codemirror_mode": {
    "name": "ipython",
    "version": 3
   },
   "file_extension": ".py",
   "mimetype": "text/x-python",
   "name": "python",
   "nbconvert_exporter": "python",
   "pygments_lexer": "ipython3",
   "version": "3.7.7"
  }
 },
 "nbformat": 4,
 "nbformat_minor": 4
}
