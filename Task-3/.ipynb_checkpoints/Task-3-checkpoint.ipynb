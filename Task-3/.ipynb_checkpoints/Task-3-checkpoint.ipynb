{
 "cells": [
  {
   "cell_type": "code",
   "execution_count": 1,
   "metadata": {},
   "outputs": [],
   "source": [
    "import requests\n",
    "from bs4 import BeautifulSoup\n",
    "import re\n",
    "import numpy as np\n",
    "import json\n",
    "from tqdm import tqdm\n",
    "import pandas as pd"
   ]
  },
  {
   "cell_type": "code",
   "execution_count": 2,
   "metadata": {},
   "outputs": [],
   "source": [
    "def list_of_brands():\n",
    "    \n",
    "    brands_ = []\n",
    "    map_brands = {}\n",
    "    url_2 = \"https://www.next.co.uk/clearance/search?w=*&af=gender:men\"\n",
    "    page = requests.get(url_2)\n",
    "    soup = BeautifulSoup(page.text, 'html.parser').prettify()\n",
    "\n",
    "    a = soup.find(\"saleclearance.pageState.filters = \")\n",
    "    b = soup.find(\"saleclearance.pageState.filters_TotalResults\")\n",
    "    aa = soup[a+len(\"saleclearance.pageState.filters = \"):b].strip()[:-1]\n",
    "    list_of_filters = json.loads(aa)\n",
    "    for obj_brand in list_of_filters[3]['FilterOptions']:\n",
    "        map_brands[obj_brand['Value']] = obj_brand['Name'].lower()\n",
    "        brands_.append(obj_brand['Value'])\n",
    "\n",
    "    return map_brands, brands_"
   ]
  },
  {
   "cell_type": "code",
   "execution_count": 3,
   "metadata": {},
   "outputs": [],
   "source": [
    "def find_total_results(soup):\n",
    "    \n",
    "    text_for_total = \"saleclearance.pageState.filters_TotalResults = \"\n",
    "    pos = soup.find(text_for_total) + len(text_for_total)\n",
    "    res = \"\"\n",
    "    while(soup[pos]!= ';'):\n",
    "        res += soup[pos]\n",
    "        pos +=1\n",
    "    \n",
    "    return int(res)"
   ]
  },
  {
   "cell_type": "code",
   "execution_count": 4,
   "metadata": {},
   "outputs": [],
   "source": [
    "def source_to_data(soup):\n",
    "    \n",
    "    start = \"saleclearance.pageState.results = \"\n",
    "    end = \"saleclearance.pageState.isLandingPage = false\"\n",
    "    start_pos = soup.find(start) + len(start)\n",
    "    end_pos = soup.find(end)\n",
    "    return str(soup[start_pos:end_pos]).strip()[:-1]"
   ]
  },
  {
   "cell_type": "code",
   "execution_count": 5,
   "metadata": {},
   "outputs": [],
   "source": [
    "def parse_products_of_brand(url, brand):\n",
    "    \n",
    "    page = requests.get(url)\n",
    "    soup = BeautifulSoup(page.text, 'html.parser').prettify()\n",
    "    total_results = find_total_results(soup)\n",
    "    \n",
    "    if(total_results > 24):\n",
    "        no_pages=total_results//24 + (1 if total_results%24 > 0 else 0)\n",
    "    else:\n",
    "        no_pages=1\n",
    "    \n",
    "    \n",
    "    pages = [i+1 for i in range(no_pages)]\n",
    "    str_list = [(i-1)*24 for i in pages]\n",
    "    \n",
    "    for str_no, page_no in zip(str_list, pages):\n",
    "        url_page = url + f\"%20&srt={str_no}#searchpos_{page_no}\"\n",
    "        per_page = requests.get(url_page)\n",
    "        soup_per_page = BeautifulSoup(per_page.text, 'html.parser').prettify()\n",
    "        \n",
    "        try:\n",
    "            list_of_products = json.loads(source_to_data(soup_per_page))\n",
    "        except e:\n",
    "            print(e)\n",
    "        \n",
    "        for product in list_of_products:\n",
    "            original_price = product['ItemOptions'][0]['OriginalPrice']\n",
    "            price = product['ItemOptions'][0]['Price']\n",
    "            image_url = product['SearchImage'] + product['Image']\n",
    "            data.append([product['Name'], brand, float(original_price), float(price), image_url])"
   ]
  },
  {
   "cell_type": "code",
   "execution_count": 6,
   "metadata": {},
   "outputs": [],
   "source": [
    "def add_to_df():\n",
    "    global df\n",
    "    df = pd.DataFrame(data, columns=['Name', 'Brand', 'Original Price', 'Discounted Price', 'Image Url'])\n",
    "    df.to_csv('output.csv', index=False)"
   ]
  },
  {
   "cell_type": "code",
   "execution_count": 7,
   "metadata": {},
   "outputs": [],
   "source": [
    "def main():\n",
    "    \n",
    "    global data\n",
    "    data = []\n",
    "    url_main = \"https://www.next.co.uk/clearance/search?w=*&af=gender:men\"\n",
    "    map_brands, brands = list_of_brands()\n",
    "    \n",
    "    for brand in tqdm(brands):\n",
    "        brand_link = f\"%20{brand}%20gender:men\"\n",
    "        link = url_main + brand_link\n",
    "        parse_products_of_brand(link, map_brands[brand])\n",
    "        \n",
    "#     add_to_df()"
   ]
  },
  {
   "cell_type": "code",
   "execution_count": 8,
   "metadata": {
    "scrolled": true
   },
   "outputs": [
    {
     "name": "stderr",
     "output_type": "stream",
     "text": [
      "100%|██████████| 84/84 [02:54<00:00,  2.08s/it]\n"
     ]
    }
   ],
   "source": [
    "if __name__ == '__main__':\n",
    "    main()"
   ]
  },
  {
   "cell_type": "code",
   "execution_count": 9,
   "metadata": {},
   "outputs": [
    {
     "data": {
      "text/plain": [
       "2401"
      ]
     },
     "execution_count": 9,
     "metadata": {},
     "output_type": "execute_result"
    }
   ],
   "source": [
    "len(data)"
   ]
  },
  {
   "cell_type": "code",
   "execution_count": 10,
   "metadata": {},
   "outputs": [],
   "source": [
    "df = pd.DataFrame(data, columns=['Name', 'Brand', 'Original Price', 'Discounted Price', 'Image Url'])"
   ]
  },
  {
   "cell_type": "code",
   "execution_count": 11,
   "metadata": {},
   "outputs": [
    {
     "data": {
      "text/html": [
       "<div>\n",
       "<style scoped>\n",
       "    .dataframe tbody tr th:only-of-type {\n",
       "        vertical-align: middle;\n",
       "    }\n",
       "\n",
       "    .dataframe tbody tr th {\n",
       "        vertical-align: top;\n",
       "    }\n",
       "\n",
       "    .dataframe thead th {\n",
       "        text-align: right;\n",
       "    }\n",
       "</style>\n",
       "<table border=\"1\" class=\"dataframe\">\n",
       "  <thead>\n",
       "    <tr style=\"text-align: right;\">\n",
       "      <th></th>\n",
       "      <th>Name</th>\n",
       "      <th>Brand</th>\n",
       "      <th>Original Price</th>\n",
       "      <th>Discounted Price</th>\n",
       "      <th>Image Url</th>\n",
       "    </tr>\n",
       "  </thead>\n",
       "  <tbody>\n",
       "    <tr>\n",
       "      <th>0</th>\n",
       "      <td>Ted Baker Francj Debonair Slim Fit Wool Jacket</td>\n",
       "      <td>ted baker</td>\n",
       "      <td>289.0</td>\n",
       "      <td>120.0</td>\n",
       "      <td>https://xcdn.next.co.uk/COMMON/Items/Default/D...</td>\n",
       "    </tr>\n",
       "    <tr>\n",
       "      <th>1</th>\n",
       "      <td>Ted Baker Regdebj Wool Birdseye Suit Jacket</td>\n",
       "      <td>ted baker</td>\n",
       "      <td>289.0</td>\n",
       "      <td>120.0</td>\n",
       "      <td>https://xcdn.next.co.uk/COMMON/Items/Default/D...</td>\n",
       "    </tr>\n",
       "    <tr>\n",
       "      <th>2</th>\n",
       "      <td>Ted Baker Franct Debonair Slim Fit Wool Trousers</td>\n",
       "      <td>ted baker</td>\n",
       "      <td>139.0</td>\n",
       "      <td>65.0</td>\n",
       "      <td>https://xcdn.next.co.uk/COMMON/Items/Default/D...</td>\n",
       "    </tr>\n",
       "    <tr>\n",
       "      <th>3</th>\n",
       "      <td>Ted Baker Diaryt Debonair Semi Plain Wool Trou...</td>\n",
       "      <td>ted baker</td>\n",
       "      <td>139.0</td>\n",
       "      <td>65.0</td>\n",
       "      <td>https://xcdn.next.co.uk/COMMON/Items/Default/D...</td>\n",
       "    </tr>\n",
       "    <tr>\n",
       "      <th>4</th>\n",
       "      <td>Ted Baker Purple Shecan Floral Cotton Blend Shirt</td>\n",
       "      <td>ted baker</td>\n",
       "      <td>95.0</td>\n",
       "      <td>45.0</td>\n",
       "      <td>https://xcdn.next.co.uk/COMMON/Items/Default/D...</td>\n",
       "    </tr>\n",
       "    <tr>\n",
       "      <th>...</th>\n",
       "      <td>...</td>\n",
       "      <td>...</td>\n",
       "      <td>...</td>\n",
       "      <td>...</td>\n",
       "      <td>...</td>\n",
       "    </tr>\n",
       "    <tr>\n",
       "      <th>2396</th>\n",
       "      <td>Sik Silk Logo Joggers</td>\n",
       "      <td>sik silk</td>\n",
       "      <td>45.0</td>\n",
       "      <td>18.0</td>\n",
       "      <td>https://xcdn.next.co.uk/COMMON/Items/Default/D...</td>\n",
       "    </tr>\n",
       "    <tr>\n",
       "      <th>2397</th>\n",
       "      <td>RI Black Sandals</td>\n",
       "      <td>the north face</td>\n",
       "      <td>32.0</td>\n",
       "      <td>16.0</td>\n",
       "      <td>https://xcdn.next.co.uk/COMMON/Items/Default/D...</td>\n",
       "    </tr>\n",
       "    <tr>\n",
       "      <th>2398</th>\n",
       "      <td>Slim Fit TimberlandÂ® Blue Long Sleeve Stretch...</td>\n",
       "      <td>timberland</td>\n",
       "      <td>40.0</td>\n",
       "      <td>40.0</td>\n",
       "      <td>https://xcdn.next.co.uk/COMMON/Items/Default/D...</td>\n",
       "    </tr>\n",
       "    <tr>\n",
       "      <th>2399</th>\n",
       "      <td>TOMS Grey Washed Canvas Espadrilles</td>\n",
       "      <td>toms</td>\n",
       "      <td>50.0</td>\n",
       "      <td>22.0</td>\n",
       "      <td>https://xcdn.next.co.uk/COMMON/Items/Default/D...</td>\n",
       "    </tr>\n",
       "    <tr>\n",
       "      <th>2400</th>\n",
       "      <td>UGGÂ® Leather Hi Top Trainers</td>\n",
       "      <td>ugg</td>\n",
       "      <td>110.0</td>\n",
       "      <td>55.0</td>\n",
       "      <td>https://xcdn.next.co.uk/COMMON/Items/Default/D...</td>\n",
       "    </tr>\n",
       "  </tbody>\n",
       "</table>\n",
       "<p>2401 rows × 5 columns</p>\n",
       "</div>"
      ],
      "text/plain": [
       "                                                   Name           Brand  \\\n",
       "0        Ted Baker Francj Debonair Slim Fit Wool Jacket       ted baker   \n",
       "1           Ted Baker Regdebj Wool Birdseye Suit Jacket       ted baker   \n",
       "2      Ted Baker Franct Debonair Slim Fit Wool Trousers       ted baker   \n",
       "3     Ted Baker Diaryt Debonair Semi Plain Wool Trou...       ted baker   \n",
       "4     Ted Baker Purple Shecan Floral Cotton Blend Shirt       ted baker   \n",
       "...                                                 ...             ...   \n",
       "2396                              Sik Silk Logo Joggers        sik silk   \n",
       "2397                                   RI Black Sandals  the north face   \n",
       "2398  Slim Fit TimberlandÂ® Blue Long Sleeve Stretch...      timberland   \n",
       "2399                TOMS Grey Washed Canvas Espadrilles            toms   \n",
       "2400                      UGGÂ® Leather Hi Top Trainers             ugg   \n",
       "\n",
       "      Original Price  Discounted Price  \\\n",
       "0              289.0             120.0   \n",
       "1              289.0             120.0   \n",
       "2              139.0              65.0   \n",
       "3              139.0              65.0   \n",
       "4               95.0              45.0   \n",
       "...              ...               ...   \n",
       "2396            45.0              18.0   \n",
       "2397            32.0              16.0   \n",
       "2398            40.0              40.0   \n",
       "2399            50.0              22.0   \n",
       "2400           110.0              55.0   \n",
       "\n",
       "                                              Image Url  \n",
       "0     https://xcdn.next.co.uk/COMMON/Items/Default/D...  \n",
       "1     https://xcdn.next.co.uk/COMMON/Items/Default/D...  \n",
       "2     https://xcdn.next.co.uk/COMMON/Items/Default/D...  \n",
       "3     https://xcdn.next.co.uk/COMMON/Items/Default/D...  \n",
       "4     https://xcdn.next.co.uk/COMMON/Items/Default/D...  \n",
       "...                                                 ...  \n",
       "2396  https://xcdn.next.co.uk/COMMON/Items/Default/D...  \n",
       "2397  https://xcdn.next.co.uk/COMMON/Items/Default/D...  \n",
       "2398  https://xcdn.next.co.uk/COMMON/Items/Default/D...  \n",
       "2399  https://xcdn.next.co.uk/COMMON/Items/Default/D...  \n",
       "2400  https://xcdn.next.co.uk/COMMON/Items/Default/D...  \n",
       "\n",
       "[2401 rows x 5 columns]"
      ]
     },
     "execution_count": 11,
     "metadata": {},
     "output_type": "execute_result"
    }
   ],
   "source": [
    "df"
   ]
  },
  {
   "cell_type": "code",
   "execution_count": 12,
   "metadata": {},
   "outputs": [
    {
     "data": {
      "text/plain": [
       "Name                 object\n",
       "Brand                object\n",
       "Original Price      float64\n",
       "Discounted Price    float64\n",
       "Image Url            object\n",
       "dtype: object"
      ]
     },
     "execution_count": 12,
     "metadata": {},
     "output_type": "execute_result"
    }
   ],
   "source": [
    "df.dtypes"
   ]
  },
  {
   "cell_type": "code",
   "execution_count": null,
   "metadata": {},
   "outputs": [],
   "source": []
  }
 ],
 "metadata": {
  "kernelspec": {
   "display_name": "Python 3",
   "language": "python",
   "name": "python3"
  },
  "language_info": {
   "codemirror_mode": {
    "name": "ipython",
    "version": 3
   },
   "file_extension": ".py",
   "mimetype": "text/x-python",
   "name": "python",
   "nbconvert_exporter": "python",
   "pygments_lexer": "ipython3",
   "version": "3.7.7"
  }
 },
 "nbformat": 4,
 "nbformat_minor": 4
}
